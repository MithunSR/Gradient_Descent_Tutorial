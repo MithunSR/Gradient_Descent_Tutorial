{
  "nbformat": 4,
  "nbformat_minor": 0,
  "metadata": {
    "colab": {
      "provenance": [],
      "gpuType": "T4",
      "authorship_tag": "ABX9TyPidbyD4rXexmyIyaFsRWae",
      "include_colab_link": true
    },
    "kernelspec": {
      "name": "python3",
      "display_name": "Python 3"
    },
    "language_info": {
      "name": "python"
    },
    "accelerator": "GPU"
  },
  "cells": [
    {
      "cell_type": "markdown",
      "metadata": {
        "id": "view-in-github",
        "colab_type": "text"
      },
      "source": [
        "<a href=\"https://colab.research.google.com/github/MithunSR/Gradient_Descent_Tutorial/blob/main/Gradient_Calculation_Linear_Regression.ipynb\" target=\"_parent\"><img src=\"https://colab.research.google.com/assets/colab-badge.svg\" alt=\"Open In Colab\"/></a>"
      ]
    },
    {
      "cell_type": "markdown",
      "source": [
        "#Computing the Gradient of a Linear Regression Model\n",
        "\n",
        "In this Colab notebook, we will explore the process of computing the gradient of a linear regression model with respect to its parameters. Specifically, we will apply gradient descent to update the parameters and fit a regression line to a real-world dataset.\n",
        "\n",
        "The dataset we will be using is the California Housing dataset, which contains information about housing prices in various districts of California. We will focus on one of the features, namely the average number of rooms per dwelling ('AveRooms'), and use it to predict the corresponding house prices.\n",
        "\n"
      ],
      "metadata": {
        "id": "nPa8rtzH2_Ti"
      }
    },
    {
      "cell_type": "markdown",
      "source": [
        "##Loading the Dataset:\n",
        " We will load the California Housing dataset using scikit-learn's fetch_california_housing function. This dataset contains various features related to housing and their corresponding target values."
      ],
      "metadata": {
        "id": "m7GmPRiU5prF"
      }
    },
    {
      "cell_type": "code",
      "source": [
        "import numpy as np\n",
        "import matplotlib.pyplot as plt\n",
        "import tensorflow as tf\n",
        "from sklearn.datasets import fetch_california_housing\n"
      ],
      "metadata": {
        "id": "NLTEz5-t5oNY"
      },
      "execution_count": 1,
      "outputs": []
    },
    {
      "cell_type": "code",
      "source": [
        "# Load the California Housing dataset\n",
        "california_housing = fetch_california_housing(as_frame=True)\n",
        "X = california_housing.data['AveRooms'].values.reshape(-1, 1)\n",
        "y = california_housing.target.values.reshape(-1, 1)"
      ],
      "metadata": {
        "id": "w2AMLEQl7rk4"
      },
      "execution_count": 2,
      "outputs": []
    },
    {
      "cell_type": "markdown",
      "source": [
        "##Data Preprocessing:\n",
        " We will preprocess the data by extracting the 'AveRooms' feature and standardizing its values to ensure numerical stability during the gradient calculation."
      ],
      "metadata": {
        "id": "6tVMdpi25vdH"
      }
    },
    {
      "cell_type": "code",
      "execution_count": 3,
      "metadata": {
        "id": "tB5KVZQExvUZ"
      },
      "outputs": [],
      "source": [
        "# Preprocess the data\n",
        "X = (X - np.mean(X)) / np.std(X)"
      ]
    },
    {
      "cell_type": "code",
      "source": [
        "# Convert the data to TensorFlow tensors\n",
        "X = tf.constant(X, dtype=tf.float32)\n",
        "y = tf.constant(y, dtype=tf.float32)"
      ],
      "metadata": {
        "id": "LD9QmJv2BMpl"
      },
      "execution_count": 4,
      "outputs": []
    },
    {
      "cell_type": "markdown",
      "source": [
        "##Initializing Parameters:\n",
        "\n",
        " We will initialize the parameters of the linear regression model, including the intercept term and the coefficient for the number of rooms."
      ],
      "metadata": {
        "id": "i6mIjNI-500g"
      }
    },
    {
      "cell_type": "code",
      "source": [
        "# Initialize the parameters\n",
        "theta = tf.Variable(tf.zeros((X.shape[1], 1)), dtype=tf.float32)"
      ],
      "metadata": {
        "id": "X2taiv4T7xJD"
      },
      "execution_count": 5,
      "outputs": []
    },
    {
      "cell_type": "markdown",
      "source": [
        "##Performing Gradient Calculation:\n",
        " We will use gradient descent to compute the gradient of the cost function with respect to the parameters. This will involve iteratively updating the parameters using the gradient until convergence."
      ],
      "metadata": {
        "id": "5mEM-qjv6tUO"
      }
    },
    {
      "cell_type": "code",
      "source": [
        "print(X.shape)\n",
        "print(theta.shape)\n",
        "print(y.shape)\n"
      ],
      "metadata": {
        "colab": {
          "base_uri": "https://localhost:8080/"
        },
        "id": "iwMVjFjX-P-0",
        "outputId": "def6c467-742b-4c23-85be-69c07cb92791"
      },
      "execution_count": 6,
      "outputs": [
        {
          "output_type": "stream",
          "name": "stdout",
          "text": [
            "(20640, 1)\n",
            "(1, 1)\n",
            "(20640, 1)\n"
          ]
        }
      ]
    },
    {
      "cell_type": "code",
      "source": [
        "# Perform gradient calculation\n",
        "num_iterations = 100\n",
        "learning_rate = 0.01\n",
        "\n",
        "optimizer = tf.optimizers.SGD(learning_rate)\n",
        "\n",
        "for iteration in range(num_iterations):\n",
        "    with tf.GradientTape() as tape:\n",
        "        predictions = tf.matmul(X, theta)\n",
        "        error = predictions - y\n",
        "        loss = tf.reduce_mean(tf.square(error))\n",
        "    \n",
        "    gradients = tape.gradient(loss, theta)\n",
        "    optimizer.apply_gradients(zip([gradients], [theta]))"
      ],
      "metadata": {
        "id": "bXsnmjtT71mK"
      },
      "execution_count": 7,
      "outputs": []
    },
    {
      "cell_type": "code",
      "source": [
        "# Convert the tensors back to numpy arrays\n",
        "X = X.numpy()\n",
        "y = y.numpy()\n",
        "theta = theta.numpy()"
      ],
      "metadata": {
        "id": "szWXa_FNBpGm"
      },
      "execution_count": 8,
      "outputs": []
    },
    {
      "cell_type": "markdown",
      "source": [
        "##Plotting the Data and Regression Line: \n",
        "Finally, we will visualize the original data points and the fitted regression line to observe how well the model captures the relationship between the average number of rooms and house prices."
      ],
      "metadata": {
        "id": "jcwZsXbd6w8u"
      }
    },
    {
      "cell_type": "code",
      "source": [
        "# Plot the original data and the regression line\n",
        "plt.scatter(X, y)\n",
        "plt.plot(X, X.dot(theta), color='red')\n",
        "plt.xlabel('Average Number of Rooms')\n",
        "plt.ylabel('House Price')\n",
        "plt.title('Linear Regression')\n",
        "plt.show()"
      ],
      "metadata": {
        "colab": {
          "base_uri": "https://localhost:8080/",
          "height": 472
        },
        "id": "j35lSs4y8O3A",
        "outputId": "bde2ce6b-72ed-49a9-e2f1-012d9cc8186b"
      },
      "execution_count": 9,
      "outputs": [
        {
          "output_type": "display_data",
          "data": {
            "text/plain": [
              "<Figure size 640x480 with 1 Axes>"
            ],
            "image/png": "[encoded data removed]"
          },
          "metadata": {}
        }
      ]
    },
    {
      "cell_type": "markdown",
      "source": [
        "By going through this notebook, you will gain a better understanding of how the gradient of a linear regression model is calculated and how it can be used to fit a regression line to real-world data."
      ],
      "metadata": {
        "id": "qANz5FoS7i1B"
      }
    }
  ]
}