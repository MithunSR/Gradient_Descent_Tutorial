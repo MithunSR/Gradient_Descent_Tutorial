{
  "nbformat": 4,
  "nbformat_minor": 0,
  "metadata": {
    "colab": {
      "provenance": [],
      "authorship_tag": "ABX9TyOZsH7AmL7Z99vUNtNwgH4P",
      "include_colab_link": true
    },
    "kernelspec": {
      "name": "python3",
      "display_name": "Python 3"
    },
    "language_info": {
      "name": "python"
    }
  },
  "cells": [
    {
      "cell_type": "markdown",
      "metadata": {
        "id": "view-in-github",
        "colab_type": "text"
      },
      "source": [
        "<a href=\"https://colab.research.google.com/github/MithunSR/Gradient_Descent_Tutorial/blob/main/Cost_function_Deep_learning.ipynb\" target=\"_parent\"><img src=\"https://colab.research.google.com/assets/colab-badge.svg\" alt=\"Open In Colab\"/></a>"
      ]
    },
    {
      "cell_type": "markdown",
      "source": [
        "#Introduction\n",
        "\n",
        "In this code example, we demonstrate how to build and train a deep learning model using the categorical cross-entropy loss function. We utilize the popular MNIST dataset, which consists of handwritten digits, to train a model that can classify these digits. The code begins by loading and preprocessing the data, normalizing the pixel values and one-hot encoding the target labels. We then create a deep learning model using the Sequential API, comprising a fully connected neural network with two Dense layers. The model is compiled with the Adam optimizer and the categorical cross-entropy loss function. Next, we train the model on the training data for a specified number of epochs, monitoring the training and validation loss. Finally, we visualize the cost function over the epochs to assess the model's training progress. This example serves as a practical illustration of how the categorical cross-entropy loss can be used to optimize the performance of a deep learning model"
      ],
      "metadata": {
        "id": "4pA-XhIQjZg5"
      }
    },
    {
      "cell_type": "markdown",
      "source": [
        "#Develop Model"
      ],
      "metadata": {
        "id": "tSO9-kQWjgRk"
      }
    },
    {
      "cell_type": "markdown",
      "source": [
        "##Import Libraries\n",
        "In the first section, we import the necessary libraries and modules. numpy is used for numerical operations, matplotlib.pyplot is used for plotting, and we import specific components from the tensorflow.keras module, including the MNIST dataset, the Sequential model, Dense layers, and the utility function to_categorical for one-hot encoding the labels."
      ],
      "metadata": {
        "id": "dxtkcxmmjjjb"
      }
    },
    {
      "cell_type": "code",
      "source": [
        "import numpy as np\n",
        "import matplotlib.pyplot as plt\n",
        "from tensorflow.keras.datasets import mnist\n",
        "from tensorflow.keras.models import Sequential\n",
        "from tensorflow.keras.layers import Dense\n",
        "from tensorflow.keras.utils import to_categorical\n"
      ],
      "metadata": {
        "id": "JV-iea9ajmqH"
      },
      "execution_count": 8,
      "outputs": []
    },
    {
      "cell_type": "markdown",
      "source": [
        "##Load dataset\n",
        "\n",
        "In this section, we load the MNIST dataset using the mnist.load_data() function. The dataset consists of handwritten digits from 0 to 9."
      ],
      "metadata": {
        "id": "JWNnaVhrjxrq"
      }
    },
    {
      "cell_type": "code",
      "source": [
        "# Load the MNIST dataset\n",
        "(X_train, y_train), (X_test, y_test) = mnist.load_data()\n"
      ],
      "metadata": {
        "id": "s1rmTwmvkC86"
      },
      "execution_count": 9,
      "outputs": []
    },
    {
      "cell_type": "markdown",
      "source": [
        "##Preprocess the data\n",
        "\n",
        "re, we preprocess the data by reshaping the input images into a flat 784-dimensional vector and normalizing the pixel values between 0 and 1. We also one-hot encode the target labels using the to_categorical function."
      ],
      "metadata": {
        "id": "yOKzNzqPkGft"
      }
    },
    {
      "cell_type": "code",
      "source": [
        "X_train = X_train.reshape((60000, 784)).astype('float32') / 255.0\n",
        "X_test = X_test.reshape((10000, 784)).astype('float32') / 255.0\n",
        "y_train = to_categorical(y_train)\n",
        "y_test = to_categorical(y_test)"
      ],
      "metadata": {
        "id": "GsU7S4N6kMh0"
      },
      "execution_count": 10,
      "outputs": []
    },
    {
      "cell_type": "markdown",
      "source": [
        "##Define Deep learning model\n",
        "In this section, we define the architecture of the deep learning model using the Sequential API. We add two Dense layers to the model. The first layer has 64 units with ReLU activation and takes input with shape (784,), corresponding to the flattened input images. The second layer has 10 units with softmax activation, representing the output probabilities for each digit class.\n"
      ],
      "metadata": {
        "id": "YRVO6h_ZkU7w"
      }
    },
    {
      "cell_type": "code",
      "source": [
        "# Create the deep learning model\n",
        "model = Sequential()\n",
        "model.add(Dense(64, activation='relu', input_shape=(784,)))\n",
        "model.add(Dense(10, activation='softmax'))\n"
      ],
      "metadata": {
        "id": "VIYYN0QEkPr4"
      },
      "execution_count": 11,
      "outputs": []
    },
    {
      "cell_type": "markdown",
      "source": [
        "##Compile The Model\n",
        "\n",
        "Here, we compile the model with the Adam optimizer, which is a popular optimization algorithm, and the categorical cross-entropy loss function. We also specify that we want to track the accuracy metric during training.\n"
      ],
      "metadata": {
        "id": "YIH7ogHHkhsw"
      }
    },
    {
      "cell_type": "code",
      "source": [
        "# Compile the model\n",
        "model.compile(optimizer='adam', loss='categorical_crossentropy', metrics=['accuracy'])\n"
      ],
      "metadata": {
        "id": "F99Lnyc6ksSh"
      },
      "execution_count": 12,
      "outputs": []
    },
    {
      "cell_type": "markdown",
      "source": [
        "##Train the Model\n",
        "\n",
        "In this section, we train the model using the fit function. We provide the training data (X_train and y_train), specify the number of epochs, batch size, and validation data (X_test and y_test). The training process updates the model's parameters to minimize the loss function."
      ],
      "metadata": {
        "id": "whIrr0w4kwjH"
      }
    },
    {
      "cell_type": "code",
      "source": [
        "X_train_flattened = X_train.reshape(X_train.shape[0], -1)\n",
        "X_test_flattened = X_test.reshape(X_test.shape[0], -1)\n",
        "\n",
        "# Train the model\n",
        "history = model.fit(X_train, y_train, epochs=10, batch_size=128, validation_data=(X_test, y_test))\n"
      ],
      "metadata": {
        "colab": {
          "base_uri": "https://localhost:8080/"
        },
        "id": "CvrjZILtk1SL",
        "outputId": "2a509644-4553-4d55-e420-f120ecd6be60"
      },
      "execution_count": 13,
      "outputs": [
        {
          "output_type": "stream",
          "name": "stdout",
          "text": [
            "Epoch 1/10\n",
            "469/469 [==============================] - 3s 5ms/step - loss: 0.4238 - accuracy: 0.8849 - val_loss: 0.2354 - val_accuracy: 0.9326\n",
            "Epoch 2/10\n",
            "469/469 [==============================] - 2s 4ms/step - loss: 0.2100 - accuracy: 0.9410 - val_loss: 0.1910 - val_accuracy: 0.9452\n",
            "Epoch 3/10\n",
            "469/469 [==============================] - 2s 4ms/step - loss: 0.1636 - accuracy: 0.9539 - val_loss: 0.1510 - val_accuracy: 0.9546\n",
            "Epoch 4/10\n",
            "469/469 [==============================] - 2s 4ms/step - loss: 0.1356 - accuracy: 0.9610 - val_loss: 0.1370 - val_accuracy: 0.9586\n",
            "Epoch 5/10\n",
            "469/469 [==============================] - 2s 4ms/step - loss: 0.1155 - accuracy: 0.9669 - val_loss: 0.1230 - val_accuracy: 0.9623\n",
            "Epoch 6/10\n",
            "469/469 [==============================] - 3s 6ms/step - loss: 0.1011 - accuracy: 0.9704 - val_loss: 0.1169 - val_accuracy: 0.9648\n",
            "Epoch 7/10\n",
            "469/469 [==============================] - 2s 4ms/step - loss: 0.0893 - accuracy: 0.9743 - val_loss: 0.1099 - val_accuracy: 0.9672\n",
            "Epoch 8/10\n",
            "469/469 [==============================] - 2s 4ms/step - loss: 0.0794 - accuracy: 0.9768 - val_loss: 0.1008 - val_accuracy: 0.9697\n",
            "Epoch 9/10\n",
            "469/469 [==============================] - 2s 4ms/step - loss: 0.0714 - accuracy: 0.9792 - val_loss: 0.0977 - val_accuracy: 0.9703\n",
            "Epoch 10/10\n",
            "469/469 [==============================] - 2s 4ms/step - loss: 0.0639 - accuracy: 0.9815 - val_loss: 0.0988 - val_accuracy: 0.9699\n"
          ]
        }
      ]
    },
    {
      "cell_type": "markdown",
      "source": [
        "##Plot the training and validation loss\n",
        "\n",
        "Finally, we plot the training and validation loss over the epochs. This visualization helps us understand how the cost function (loss) changes during the training process. The goal is to observe a decreasing trend in the loss, indicating that the model is learning and optimizing its performance."
      ],
      "metadata": {
        "id": "cKtrKSplk7Qa"
      }
    },
    {
      "cell_type": "code",
      "source": [
        "# Plot the cost function\n",
        "plt.plot(history.history['loss'], label='Training Loss')\n",
        "plt.plot(history.history['val_loss'], label='Validation Loss')\n",
        "plt.xlabel('Epoch')\n",
        "plt.ylabel('Loss')\n",
        "plt.legend()\n",
        "plt.show()\n"
      ],
      "metadata": {
        "colab": {
          "base_uri": "https://localhost:8080/",
          "height": 449
        },
        "id": "tC3lgCHQlDhN",
        "outputId": "5661b216-5c5f-4492-d14e-503df9ab660c"
      },
      "execution_count": 14,
      "outputs": [
        {
          "output_type": "display_data",
          "data": {
            "text/plain": [
              "<Figure size 640x480 with 1 Axes>"
            ],
            "image/png": "[encoded data removed]"
          },
          "metadata": {}
        }
      ]
    }
  ]
}