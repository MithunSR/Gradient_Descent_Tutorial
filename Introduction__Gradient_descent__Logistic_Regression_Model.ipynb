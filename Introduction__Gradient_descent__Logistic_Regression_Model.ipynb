{
  "nbformat": 4,
  "nbformat_minor": 0,
  "metadata": {
    "colab": {
      "provenance": [],
      "authorship_tag": "ABX9TyNZr1dZ3mO9zvL3vVgakMEC",
      "include_colab_link": true
    },
    "kernelspec": {
      "name": "python3",
      "display_name": "Python 3"
    },
    "language_info": {
      "name": "python"
    }
  },
  "cells": [
    {
      "cell_type": "markdown",
      "metadata": {
        "id": "view-in-github",
        "colab_type": "text"
      },
      "source": [
        "<a href=\"https://colab.research.google.com/github/MithunSR/Gradient_Descent_Tutorial/blob/main/Introduction__Gradient_descent__Logistic_Regression_Model.ipynb\" target=\"_parent\"><img src=\"https://colab.research.google.com/assets/colab-badge.svg\" alt=\"Open In Colab\"/></a>"
      ]
    },
    {
      "cell_type": "markdown",
      "source": [
        "#Introduction To Gradient Descent\n",
        "\n",
        "Gradient descent is an optimization algorithm commonly used in machine learning and deep learning for finding the optimal values of parameters in a model. It is particularly effective in solving problems related to minimizing a cost or loss function."
      ],
      "metadata": {
        "id": "XCn3l-vKXoBD"
      }
    },
    {
      "cell_type": "markdown",
      "source": [
        "**Gradient is the vector of partial derivatives**\n",
        "\n",
        "One approach to maximizing a function is to\n",
        "- pick a random starting point, \n",
        "- compute the gradient, \n",
        "- take a small step in the direction of the gradient, and \n",
        "- repeat with a new staring point.\n"
      ],
      "metadata": {
        "id": "e8p-Q_y0XyrT"
      }
    },
    {
      "cell_type": "markdown",
      "source": [
        "##Formula\n",
        "\n",
        "To update the parameters using gradient descent, we use the formula:\n",
        "\n",
        "$\\theta := \\theta - \\alpha \\cdot \\nabla J(\\theta)$\n",
        "\n",
        "Where:\n",
        "- $\\theta$ represents the parameters (weights) of the model.\n",
        "- $\\alpha$ denotes the learning rate, which controls the step size of the parameter updates.\n",
        "- $\\nabla J(\\theta)$ is the gradient of the cost or loss function $J(\\theta)$ with respect to the parameters $\\theta$."
      ],
      "metadata": {
        "id": "Aue58rVnX18K"
      }
    },
    {
      "cell_type": "markdown",
      "source": [
        "##Intuition\n",
        "\n",
        "  Gradient descent works by iteratively updating the parameters in the opposite direction of the gradient. The gradient points in the direction of steepest ascent, so by subtracting the gradient multiplied by the learning rate, we move in the direction of steepest descent, aiming to reach the minimum of the cost function.\n",
        "\n",
        "The process involves the following steps:\n",
        "\n",
        "Initialize the parameters (θ) of the model with random or predefined values.\n",
        "Calculate the gradient of the cost function (∇J(θ)) with respect to the parameters.\n",
        "Update the parameters (θ) by subtracting the gradient multiplied by the learning rate.\n",
        "Repeat steps 2 and 3 until convergence or a maximum number of iterations is reached.\n",
        "By iteratively updating the parameters based on the gradient, gradient descent gradually approaches the minimum of the cost function, optimizing the model's performance."
      ],
      "metadata": {
        "id": "PBoJqhHdX5Na"
      }
    },
    {
      "cell_type": "markdown",
      "source": [
        "#Applying Gradient Descent to Optimize the Parameters of a Logistic Regression Model\n",
        "In this code example, we will demonstrate how to apply gradient descent to optimize the parameters of a logistic regression model. Logistic regression is a popular machine learning algorithm used for binary classification tasks."
      ],
      "metadata": {
        "id": "f5DrTgIHX9pZ"
      }
    },
    {
      "cell_type": "markdown",
      "source": [
        "##Load and Preprocess the Data\n",
        "First, we load the dataset that we will use for training our logistic regression model. In this example, we are using the Breast Cancer Wisconsin (Diagnostic) dataset from scikit-learn. We split the dataset into input features X and target labels y"
      ],
      "metadata": {
        "id": "N-grTqJQYFSm"
      }
    },
    {
      "cell_type": "code",
      "source": [
        "import numpy as np\n",
        "import matplotlib.pyplot as plt\n",
        "from sklearn.datasets import load_breast_cancer\n",
        "from sklearn.model_selection import train_test_split"
      ],
      "metadata": {
        "id": "OF7UOe7NYUqW"
      },
      "execution_count": 41,
      "outputs": []
    },
    {
      "cell_type": "code",
      "source": [
        "# Step 1: Load and preprocess the data\n",
        "data = load_breast_cancer()\n",
        "X = data.data\n",
        "y = data.target"
      ],
      "metadata": {
        "id": "Uz93F9q0YXd_"
      },
      "execution_count": 42,
      "outputs": []
    },
    {
      "cell_type": "code",
      "source": [
        "# Split the data into training and testing sets\n",
        "X_train, X_test, y_train, y_test = train_test_split(X, y, test_size=0.2, random_state=42)"
      ],
      "metadata": {
        "id": "OmT8W6tDYpWj"
      },
      "execution_count": 43,
      "outputs": []
    },
    {
      "cell_type": "markdown",
      "source": [
        "##Define the Logistic Regression Model\n",
        "Next, we define the LogisticRegression class, which encapsulates our logistic regression model. This class contains methods for computing the sigmoid function, making predictions, and fitting the model using gradient descent.\n",
        "\n",
        "The sigmoid method computes the sigmoid function, which maps any real-valued number to a value between 0 and 1. It is used to convert the linear regression output to a probability.\n",
        "\n",
        "The predict method predicts the binary class labels based on the computed probabilities. If the model has not been trained yet (weights are not set), an exception is raised.\n",
        "\n",
        "The fit method performs the training of the logistic regression model using gradient descent. It initializes the weights to zeros and iteratively updates them based on the gradient of the cost function. The cost history is stored for analysis.\n",
        "\n",
        "The cost_function method computes the cost function, which measures the discrepancy between the predicted probabilities and the actual labels. It uses the log loss function for binary classification."
      ],
      "metadata": {
        "id": "OA0q44_8YgLb"
      }
    },
    {
      "cell_type": "code",
      "source": [
        "class LogisticRegression:\n",
        "    def __init__(self):\n",
        "        self.weights = None\n",
        "\n",
        "    def sigmoid(self, z):\n",
        "        return 1 / (1 + np.exp(-z))\n",
        "\n",
        "    def predict(self, X):\n",
        "        if self.weights is None:\n",
        "            raise Exception(\"Model not trained yet. Please call `fit` method first.\")\n",
        "        return np.round(self.sigmoid(X.dot(self.weights)))\n",
        "\n",
        "    def fit(self, X, y, learning_rate=0.01, num_iterations=1000):\n",
        "        # Initialize weights\n",
        "        self.weights = np.zeros(X.shape[1])\n",
        "\n",
        "        # Perform gradient descent\n",
        "        cost_history = []\n",
        "        for iteration in range(num_iterations):\n",
        "            scores = X.dot(self.weights)\n",
        "            predictions = self.sigmoid(scores)\n",
        "            gradient = X.T.dot(predictions - y)\n",
        "            self.weights -= learning_rate * gradient\n",
        "\n",
        "            # Compute and store the cost\n",
        "            cost = self.cost_function(y, predictions)\n",
        "            cost_history.append(cost)\n",
        "\n",
        "        return cost_history\n",
        "\n",
        "    def cost_function(self, y, predictions):\n",
        "        return -np.mean(y * np.log(predictions) + (1 - y) * np.log(1 - predictions))"
      ],
      "metadata": {
        "id": "dMf_fmTJYjSF"
      },
      "execution_count": 44,
      "outputs": []
    },
    {
      "cell_type": "markdown",
      "source": [
        "##Training the Logistic Regression Model\n",
        "In this step, we create an instance of the LogisticRegression class and fit the model using the training data. We specify the learning rate and the number of iterations for gradient descent."
      ],
      "metadata": {
        "id": "mbDLBuYjY3RC"
      }
    },
    {
      "cell_type": "code",
      "source": [
        "logreg = LogisticRegression()\n",
        "\n",
        "# Train the model using gradient descent\n",
        "cost_history = logreg.fit(X_train, y_train, learning_rate=0.0001, num_iterations=5000)"
      ],
      "metadata": {
        "colab": {
          "base_uri": "https://localhost:8080/"
        },
        "id": "h9n2rdXAY9k2",
        "outputId": "6e284a87-7792-4ae0-da48-01606b9a5bc8"
      },
      "execution_count": 45,
      "outputs": [
        {
          "output_type": "stream",
          "name": "stderr",
          "text": [
            "<ipython-input-44-f64a640d45b3>:6: RuntimeWarning: overflow encountered in exp\n",
            "  return 1 / (1 + np.exp(-z))\n",
            "<ipython-input-44-f64a640d45b3>:32: RuntimeWarning: divide by zero encountered in log\n",
            "  return -np.mean(y * np.log(predictions) + (1 - y) * np.log(1 - predictions))\n",
            "<ipython-input-44-f64a640d45b3>:32: RuntimeWarning: invalid value encountered in multiply\n",
            "  return -np.mean(y * np.log(predictions) + (1 - y) * np.log(1 - predictions))\n"
          ]
        }
      ]
    },
    {
      "cell_type": "markdown",
      "source": [
        "##Make predictions on the test set\n",
        "We call the predict method of logreg to make predictions on the test set (X_test). The predicted labels are stored in y_pred."
      ],
      "metadata": {
        "id": "zL5X9L9Mgh-L"
      }
    },
    {
      "cell_type": "code",
      "source": [
        "y_pred = logreg.predict(X_test)"
      ],
      "metadata": {
        "colab": {
          "base_uri": "https://localhost:8080/"
        },
        "id": "hOqSz3K7icjj",
        "outputId": "b067d500-199e-4e71-8757-745275222d1a"
      },
      "execution_count": 48,
      "outputs": [
        {
          "output_type": "stream",
          "name": "stderr",
          "text": [
            "<ipython-input-44-f64a640d45b3>:6: RuntimeWarning: overflow encountered in exp\n",
            "  return 1 / (1 + np.exp(-z))\n"
          ]
        }
      ]
    },
    {
      "cell_type": "markdown",
      "source": [
        "##Evaluate the model\n",
        "We calculate the accuracy of the model by comparing the predicted labels (y_pred) with the actual labels (y_test). The accuracy is the fraction of correct predictions."
      ],
      "metadata": {
        "id": "2hnPsu6ZimJf"
      }
    },
    {
      "cell_type": "code",
      "source": [
        "accuracy = np.mean(y_pred == y_test)\n",
        "print(\"Accuracy:\", accuracy) "
      ],
      "metadata": {
        "colab": {
          "base_uri": "https://localhost:8080/"
        },
        "id": "iHuRnpi9ie5h",
        "outputId": "484985f9-eada-47de-ebf3-bef9b44882be"
      },
      "execution_count": 49,
      "outputs": [
        {
          "output_type": "stream",
          "name": "stdout",
          "text": [
            "Accuracy: 0.9473684210526315\n"
          ]
        }
      ]
    },
    {
      "cell_type": "markdown",
      "source": [
        "##Visualize the predicted classes\n",
        "We create a scatter plot using matplotlib.pyplot to visualize the predicted classes on the test set. Each point represents an instance with feature values from X_test, and the color represents the predicted class label (y_pred). This visualization helps us understand how well the model separates the classes based on the two selected features (Feature 1 and Feature 2).\n",
        "\n",
        "Please note that this code provides a simplified implementation of logistic regression for educational purposes and may not include advanced techniques or optimizations."
      ],
      "metadata": {
        "id": "FJOlLNymitWl"
      }
    },
    {
      "cell_type": "code",
      "source": [
        "plt.scatter(X_test[:, 0], X_test[:, 1], c=y_pred)\n",
        "plt.xlabel('Feature 1')\n",
        "plt.ylabel('Feature 2')\n",
        "plt.title('Predicted Classes')\n",
        "plt.show()\n"
      ],
      "metadata": {
        "colab": {
          "base_uri": "https://localhost:8080/",
          "height": 472
        },
        "id": "KLMAVKcLig54",
        "outputId": "040f90a3-c129-48ce-85d0-192759bd8968"
      },
      "execution_count": 50,
      "outputs": [
        {
          "output_type": "display_data",
          "data": {
            "text/plain": [
              "<Figure size 640x480 with 1 Axes>"
            ],
            "image/png": "[encoded data removed]"
          },
          "metadata": {}
        }
      ]
    }
  ]
}