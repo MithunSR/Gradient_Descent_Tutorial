{
  "nbformat": 4,
  "nbformat_minor": 0,
  "metadata": {
    "colab": {
      "provenance": [],
      "toc_visible": true,
      "authorship_tag": "ABX9TyNBqoHqjsW9IYXQW41+hhRo",
      "include_colab_link": true
    },
    "kernelspec": {
      "name": "python3",
      "display_name": "Python 3"
    },
    "language_info": {
      "name": "python"
    }
  },
  "cells": [
    {
      "cell_type": "markdown",
      "metadata": {
        "id": "view-in-github",
        "colab_type": "text"
      },
      "source": [
        "<a href=\"https://colab.research.google.com/github/MithunSR/Gradient_Descent_Tutorial/blob/main/Cost_Function_Mean_Squared_Error.ipynb\" target=\"_parent\"><img src=\"https://colab.research.google.com/assets/colab-badge.svg\" alt=\"Open In Colab\"/></a>"
      ]
    },
    {
      "cell_type": "markdown",
      "source": [
        "#Introduction to the Mean Squared Error (MSE) Cost Function for Linear Regression"
      ],
      "metadata": {
        "id": "TK2kWp_3Sj_7"
      }
    },
    {
      "cell_type": "markdown",
      "source": [
        "Linear regression is a popular algorithm used for predicting continuous numerical values. It aims to find the best-fitting straight line that minimizes the difference between the predicted values and the actual values in the training data.\n",
        "\n",
        "To achieve this, linear regression utilizes a cost function that quantifies the error between the predicted values and the actual values. One commonly used cost function is the Mean Squared Error (MSE).\n",
        "\n",
        "**Mean Squared Error (MSE)**\n",
        "\n",
        "The Mean Squared Error (MSE) is a measure of the average squared difference between the predicted values and the actual values. It is calculated by taking the sum of the squared differences and dividing it by the number of samples.\n",
        "\n",
        "The MSE cost function for linear regression is defined as follows:\n",
        "\n",
        "$MSE = (1 / (2m)) * ∑(h(x) - y)^2$\n",
        "\n",
        "Where:\n",
        "\n",
        "\n",
        "\n",
        "*   MSE: Mean Squared Error\n",
        "*   m: Number of samples in the dataset\n",
        "*   h(x): Hypothesis function, which represents the predicted values\n",
        "*   y: Actual values\n",
        "\n",
        "The MSE cost function aims to minimize the average squared difference between the predicted values and the actual values. By minimizing the MSE, we can find the optimal values for the model's parameters (coefficients) that provide the best fit to the data.\n",
        "\n",
        "\n",
        "**Optimizing the Cost Function**\n",
        "\n",
        "To optimize the MSE cost function, a common approach is to use gradient descent, an iterative optimization algorithm. Gradient descent iteratively updates the model's parameters by moving in the direction of steepest descent of the cost function. This process continues until a minimum (or close to it) of the cost function is reached.\n",
        "\n",
        "By minimizing the MSE cost function using gradient descent, we can find the optimal parameter values (coefficients) that minimize the difference between the predicted values and the actual values, resulting in an accurate linear regression model.\n",
        "\n",
        "In practice, the MSE cost function is widely used in linear regression tasks due to its simplicity and effectiveness in measuring the error between predicted and actual values.\n",
        "\n",
        "\n",
        "\n",
        "\n",
        "\n",
        "\n",
        "\n",
        "\n",
        "\n",
        "\n"
      ],
      "metadata": {
        "id": "8yxS6bGoSoGE"
      }
    },
    {
      "cell_type": "markdown",
      "source": [
        "#Develop Example Model"
      ],
      "metadata": {
        "id": "w1sXVo_kVZNb"
      }
    },
    {
      "cell_type": "markdown",
      "source": [
        "## Importing the necessary libraries"
      ],
      "metadata": {
        "id": "2t7tc-ftVdbb"
      }
    },
    {
      "cell_type": "code",
      "execution_count": 1,
      "metadata": {
        "id": "r_tXtB8eSeN3"
      },
      "outputs": [],
      "source": [
        "import numpy as np\n",
        "import matplotlib.pyplot as plt\n",
        "from sklearn.datasets import fetch_california_housing\n"
      ]
    },
    {
      "cell_type": "markdown",
      "source": [
        "##Loading the California housing dataset"
      ],
      "metadata": {
        "id": "__QnJpW5ViMT"
      }
    },
    {
      "cell_type": "code",
      "source": [
        "data = fetch_california_housing()\n"
      ],
      "metadata": {
        "id": "t-_5s_tgVnVa"
      },
      "execution_count": 2,
      "outputs": []
    },
    {
      "cell_type": "markdown",
      "source": [
        "##Extracting the features and target variable"
      ],
      "metadata": {
        "id": "hFTVwQ79Vsxh"
      }
    },
    {
      "cell_type": "code",
      "source": [
        "X = data.data[:, 0]  # Use only one feature (average number of rooms per dwelling)\n",
        "y = data.target\n"
      ],
      "metadata": {
        "id": "AJG4c-6aVvpl"
      },
      "execution_count": 3,
      "outputs": []
    },
    {
      "cell_type": "markdown",
      "source": [
        "## Defining the hypothesis function\n",
        "\n",
        "The hypothesis function represents the linear relationship between the input feature (x) and the target variable. It takes two parameters, theta0 and theta1, which are the coefficients of the linear regression model. The function returns the predicted value of the target variable based on the input and the model parameters."
      ],
      "metadata": {
        "id": "ggVUlQ4dVyIb"
      }
    },
    {
      "cell_type": "code",
      "source": [
        "def hypothesis(theta0, theta1, x):\n",
        "    return theta0 + theta1 * x\n"
      ],
      "metadata": {
        "id": "qvjgNsC8Vz_J"
      },
      "execution_count": 4,
      "outputs": []
    },
    {
      "cell_type": "markdown",
      "source": [
        "##Defining the cost function (Mean Squared Error)\n",
        "\n",
        "The cost function calculates the mean squared error (MSE) between the predicted values and the actual target values. It takes the model parameters (theta0 and theta1), the feature matrix (X), and the target variable (y) as inputs. The cost is computed by summing the squared differences between the predicted and actual values and dividing it by twice the number of samples (2 * m)."
      ],
      "metadata": {
        "id": "U-YFCFB0V6GO"
      }
    },
    {
      "cell_type": "code",
      "source": [
        "def cost_function(theta0, theta1, X, y):\n",
        "    m = len(X)\n",
        "    error = np.sum((hypothesis(theta0, theta1, X) - y) ** 2)\n",
        "    return error / (2 * m)\n"
      ],
      "metadata": {
        "id": "rXVcbVJ_WCtr"
      },
      "execution_count": 5,
      "outputs": []
    },
    {
      "cell_type": "markdown",
      "source": [
        "##Defining the gradient descent function\n",
        "\n",
        "The gradient descent function optimizes the model parameters (theta0 and theta1) using the gradient descent algorithm. It iteratively updates the parameters based on the gradient of the cost function to minimize the cost. The function takes the initial values of theta0 and theta1, the feature matrix X, the target variable y, the learning rate, and the number of iterations as inputs. It returns the optimized values of theta0 and theta1, along with a history of the cost values during the iterations."
      ],
      "metadata": {
        "id": "RbIJksQNWFp7"
      }
    },
    {
      "cell_type": "code",
      "source": [
        "def gradient_descent(theta0, theta1, X, y, learning_rate, num_iterations):\n",
        "    m = len(X)\n",
        "    history = []\n",
        "    for _ in range(num_iterations):\n",
        "        error = hypothesis(theta0, theta1, X) - y\n",
        "        theta0 -= (learning_rate / m) * np.sum(error)\n",
        "        theta1 -= (learning_rate / m) * np.sum(error * X)\n",
        "        cost = cost_function(theta0, theta1, X, y)\n",
        "        history.append(cost)\n",
        "    return theta0, theta1, history\n"
      ],
      "metadata": {
        "id": "xTY3GFMhWLbH"
      },
      "execution_count": 6,
      "outputs": []
    },
    {
      "cell_type": "markdown",
      "source": [
        "##Setting the initial values and hyperparameters\n",
        "\n",
        "In this section, the initial values of theta0 and theta1, the learning rate, and the number of iterations are set. These values can be adjusted based on the problem and desired convergence."
      ],
      "metadata": {
        "id": "u5Ymy7t1WPEX"
      }
    },
    {
      "cell_type": "code",
      "source": [
        "initial_theta0 = 0\n",
        "initial_theta1 = 0\n",
        "learning_rate = 0.01\n",
        "num_iterations = 1000\n"
      ],
      "metadata": {
        "id": "eSO5sKg0Wb1c"
      },
      "execution_count": 7,
      "outputs": []
    },
    {
      "cell_type": "markdown",
      "source": [
        "##Running gradient descent to optimize `theta0` and `theta1`\n",
        "\n",
        "The gradient descent function is called to optimize the model parameters theta0 and theta1. The function returns the optimized values of theta0 and theta1, as well as the history of the cost values during the iterations."
      ],
      "metadata": {
        "id": "NMVa7eIbWgh7"
      }
    },
    {
      "cell_type": "code",
      "source": [
        "theta0, theta1, cost_history = gradient_descent(initial_theta0, initial_theta1, X, y, learning_rate, num_iterations)\n"
      ],
      "metadata": {
        "id": "xmK05gqaWt4K"
      },
      "execution_count": 8,
      "outputs": []
    },
    {
      "cell_type": "markdown",
      "source": [
        "##Printing the optimized values of `theta0` and `theta1`\n",
        "\n"
      ],
      "metadata": {
        "id": "KPjZOtt3WyNd"
      }
    },
    {
      "cell_type": "code",
      "source": [
        "print('Optimized theta0:', theta0)\n",
        "print('Optimized theta1:', theta1)\n"
      ],
      "metadata": {
        "colab": {
          "base_uri": "https://localhost:8080/"
        },
        "id": "5FS6eyygW9Dl",
        "outputId": "6c251641-7e4e-4947-d241-ae372761aba8"
      },
      "execution_count": 9,
      "outputs": [
        {
          "output_type": "stream",
          "name": "stdout",
          "text": [
            "Optimized theta0: 0.3968328509928906\n",
            "Optimized theta1: 0.42929964682709043\n"
          ]
        }
      ]
    },
    {
      "cell_type": "markdown",
      "source": [
        "Optimized `theta0`: 0.3968328509928906\n",
        "The optimized value of `theta0`  is approximately 0.397. In linear regression, `theta0` represents the y-intercept or the value of the target variable when the input feature (X) is zero. In this context, it indicates the estimated housing price when the average number of rooms per dwelling is zero. However, since this interpretation is not meaningful in this scenario, it's important to consider the context and domain knowledge when interpreting the values of the model parameters.\n",
        "\n",
        "Optimized `theta1`: 0.42929964682709043\n",
        "The optimized value of t`theta1` is approximately 0.429. In linear regression, `theta1` represents the coefficient or slope of the linear relationship between the input feature (X) and the target variable. In this case, it indicates the estimated change in housing price for a one-unit increase in the average number of rooms per dwelling. A positive `theta1` value suggests a positive relationship, indicating that as the average number of rooms per dwelling increases, the housing price is expected to increase."
      ],
      "metadata": {
        "id": "P9137VsLXtQK"
      }
    },
    {
      "cell_type": "markdown",
      "source": [
        "##Visualizing the cost function:\n",
        "\n",
        "In this section, a line plot is created to visualize the cost function over the iterations. The x-axis represents the number of iterations, and the y-axis represents the cost values. The resulting plot provides insight into how the cost decreases as the optimization progresses."
      ],
      "metadata": {
        "id": "JJgX7TIqW_nW"
      }
    },
    {
      "cell_type": "code",
      "source": [
        "plt.plot(range(num_iterations), cost_history)\n",
        "plt.xlabel('Iterations')\n",
        "plt.ylabel('Cost')\n",
        "plt.title('Cost Function (MSE)')\n",
        "plt.show()\n"
      ],
      "metadata": {
        "colab": {
          "base_uri": "https://localhost:8080/",
          "height": 472
        },
        "id": "6W27TvFLXDkb",
        "outputId": "20c592f0-a86b-4ffb-f202-b2d91eb7b2b3"
      },
      "execution_count": 10,
      "outputs": [
        {
          "output_type": "display_data",
          "data": {
            "text/plain": [
              "<Figure size 640x480 with 1 Axes>"
            ],
            "image/png": "[encoded data removed]"
          },
          "metadata": {}
        }
      ]
    }
  ]
}