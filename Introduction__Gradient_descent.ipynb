{
  "cells": [
    {
      "cell_type": "markdown",
      "metadata": {
        "id": "view-in-github",
        "colab_type": "text"
      },
      "source": [
        "<a href=\"https://colab.research.google.com/github/MithunSR/Gradient_Descent_Tutorial/blob/main/Introduction__Gradient_descent.ipynb\" target=\"_parent\"><img src=\"https://colab.research.google.com/assets/colab-badge.svg\" alt=\"Open In Colab\"/></a>"
      ]
    },
    {
      "cell_type": "markdown",
      "metadata": {
        "id": "MytjHxDmBPTi"
      },
      "source": [
        "\n",
        "\n",
        "# Introduction to Gradient Descent\n",
        "\n",
        "The Idea Behind Gradient Descent \n",
        "\n",
        "\n",
        "\n"
      ]
    },
    {
      "cell_type": "markdown",
      "metadata": {
        "id": "5TnJKK3gBPT0"
      },
      "source": [
        "![](https://github.com/chengjun/mybook/blob/main/img/stats/gradient_descent.gif?raw=1)"
      ]
    },
    {
      "cell_type": "markdown",
      "metadata": {
        "id": "DaRQoDa8BPT3"
      },
      "source": [
        "![](https://github.com/chengjun/mybook/blob/main/img/stats/gradient.png?raw=1)\n",
        "\n",
        "**Gradient is the vector of partial derivatives**\n",
        "\n",
        "One approach to maximizing a function is to\n",
        "- pick a random starting point, \n",
        "- compute the gradient, \n",
        "- take a small step in the direction of the gradient, and \n",
        "- repeat with a new staring point.\n",
        "\n"
      ]
    },
    {
      "cell_type": "markdown",
      "metadata": {
        "id": "cOeYAAm1BPT5"
      },
      "source": [
        "\n",
        "![](https://github.com/chengjun/mybook/blob/main/images/gradient.gif?raw=1)"
      ]
    },
    {
      "cell_type": "markdown",
      "metadata": {
        "id": "GXvtBcdsBPT6"
      },
      "source": [
        "![](https://github.com/chengjun/mybook/blob/main/img/stats/gd.webp?raw=1)\n",
        "\n",
        "Let's represent parameters as $\\Theta$, learning rate as $\\alpha$, and gradient as $\\bigtriangledown J(\\Theta)$, "
      ]
    },
    {
      "cell_type": "markdown",
      "metadata": {
        "id": "hEDXW8erBPT7"
      },
      "source": [
        "To the find the best model is an optimization problem\n",
        "- “minimizes the error of the model” \n",
        "- “maximizes the likelihood of the data.” "
      ]
    },
    {
      "cell_type": "markdown",
      "metadata": {
        "id": "jwCqiaIIBPT8"
      },
      "source": [
        "We’ll frequently need to maximize (or minimize)  functions. \n",
        "- to find the input vector v that produces the largest (or smallest) possible value.\n"
      ]
    },
    {
      "cell_type": "markdown",
      "metadata": {
        "ExecuteTime": {
          "end_time": "2021-11-21T13:02:56.099816Z",
          "start_time": "2021-11-21T13:02:56.047568Z"
        },
        "id": "yZqEMMDvBPT8"
      },
      "source": [
        "### Mannual Gradient"
      ]
    },
    {
      "cell_type": "code",
      "execution_count": null,
      "metadata": {
        "ExecuteTime": {
          "end_time": "2021-11-22T08:09:56.505760Z",
          "start_time": "2021-11-22T08:09:56.316148Z"
        },
        "id": "L2G9JRD7BPT-",
        "outputId": "42263373-3061-437f-d2ce-794e7bc7820b"
      },
      "outputs": [
        {
          "data": {
            "image/png": "[encoded data removed]",
            "text/plain": [
              "<Figure size 432x288 with 1 Axes>"
            ]
          },
          "metadata": {},
          "output_type": "display_data"
        }
      ],
      "source": [
        "%matplotlib inline\n",
        "import matplotlib.pyplot as plt\n",
        "import numpy as np\n",
        "import seaborn as sns\n",
        "sns.set()\n",
        "\n",
        "x_data = [1.0, 2.0, 3.0]\n",
        "y_data = [2.0, 4.0, 6.0]\n",
        "\n",
        "plt.plot(x_data, y_data, 'ro')\n",
        "plt.ylabel('y')\n",
        "plt.xlabel('x');"
      ]
    },
    {
      "cell_type": "code",
      "execution_count": null,
      "metadata": {
        "ExecuteTime": {
          "end_time": "2021-11-21T13:02:56.099816Z",
          "start_time": "2021-11-21T13:02:56.047568Z"
        },
        "id": "o-NxJ28sBPUB"
      },
      "outputs": [],
      "source": [
        "# our model for the forward pass\n",
        "def forward(x):\n",
        "    return x * w\n",
        "\n",
        "# Loss function\n",
        "def loss(y_pred, y_val):\n",
        "    return (y_pred - y_val) ** 2 "
      ]
    },
    {
      "cell_type": "code",
      "execution_count": null,
      "metadata": {
        "ExecuteTime": {
          "end_time": "2021-11-22T08:11:05.957597Z",
          "start_time": "2021-11-22T08:11:05.952545Z"
        },
        "id": "suQqxn5iBPUD"
      },
      "outputs": [],
      "source": [
        "# List of weights/Mean square Error (Mse) for each input\n",
        "w_list = []\n",
        "mse_list = []\n",
        "\n",
        "for w in np.arange(0.0, 4.1, 0.1):\n",
        "    # Print the weights and initialize the lost\n",
        "    #print(\"w=\", w)\n",
        "    l_sum = 0\n",
        "    for x_val, y_val in zip(x_data, y_data):\n",
        "        # For each input and output, calculate y_hat\n",
        "        # Compute the total loss and add to the total error\n",
        "        y_pred = forward(x_val)\n",
        "        l = loss(y_pred, y_val)\n",
        "        l_sum += l\n",
        "        #print(\"\\t\", x_val, y_val, y_pred_val, l)\n",
        "    # Now compute the Mean squared error (mse) of each\n",
        "    # Aggregate the weight/mse from this run\n",
        "    #print(\"MSE=\", l_sum / 3)\n",
        "    w_list.append(w)\n",
        "    mse_list.append(l_sum / 3)"
      ]
    },
    {
      "cell_type": "code",
      "execution_count": null,
      "metadata": {
        "ExecuteTime": {
          "end_time": "2021-11-22T08:11:13.631135Z",
          "start_time": "2021-11-22T08:11:13.442089Z"
        },
        "id": "C7brU73rBPUE",
        "outputId": "411c0b0b-344a-4c39-ddf7-5af90f91b83f"
      },
      "outputs": [
        {
          "data": {
            "image/png": "[encoded data removed]",
            "text/plain": [
              "<Figure size 432x288 with 1 Axes>"
            ]
          },
          "metadata": {},
          "output_type": "display_data"
        }
      ],
      "source": [
        "# Plot it all\n",
        "plt.plot(w_list, mse_list)\n",
        "plt.ylabel('Loss')\n",
        "plt.xlabel('w')\n",
        "plt.show()"
      ]
    },
    {
      "cell_type": "code",
      "execution_count": null,
      "metadata": {
        "ExecuteTime": {
          "end_time": "2021-11-22T08:11:36.517072Z",
          "start_time": "2021-11-22T08:11:36.460683Z"
        },
        "id": "qxwnP5kNBPUF",
        "outputId": "891d4401-8562-4f77-c00e-f69ac11cce6a"
      },
      "outputs": [
        {
          "name": "stdout",
          "output_type": "stream",
          "text": [
            "Epoch: 0 w= 3.48 loss= 19.68\r",
            "Epoch: 1 w= 3.09 loss= 10.76\r",
            "Epoch: 2 w= 2.81 loss= 5.88\r",
            "Epoch: 3 w= 2.6 loss= 3.21\r",
            "Epoch: 4 w= 2.44 loss= 1.76\r",
            "Epoch: 5 w= 2.33 loss= 0.96\r",
            "Epoch: 6 w= 2.24 loss= 0.52\r",
            "Epoch: 7 w= 2.18 loss= 0.29\r",
            "Epoch: 8 w= 2.13 loss= 0.16\r",
            "Epoch: 9 w= 2.1 loss= 0.09\r",
            "Epoch: 10 w= 2.07 loss= 0.05\r",
            "Epoch: 11 w= 2.05 loss= 0.03\r",
            "Epoch: 12 w= 2.04 loss= 0.01\r",
            "Epoch: 13 w= 2.03 loss= 0.01\r",
            "Epoch: 14 w= 2.02 loss= 0.0\r",
            "Epoch: 15 w= 2.02 loss= 0.0\r",
            "Epoch: 16 w= 2.01 loss= 0.0\r",
            "Epoch: 17 w= 2.01 loss= 0.0\r",
            "Epoch: 18 w= 2.01 loss= 0.0\r",
            "Epoch: 19 w= 2.0 loss= 0.0\r",
            "Epoch: 20 w= 2.0 loss= 0.0\r",
            "Epoch: 21 w= 2.0 loss= 0.0\r",
            "Epoch: 22 w= 2.0 loss= 0.0\r",
            "Epoch: 23 w= 2.0 loss= 0.0\r",
            "Epoch: 24 w= 2.0 loss= 0.0\r",
            "Epoch: 25 w= 2.0 loss= 0.0\r",
            "Epoch: 26 w= 2.0 loss= 0.0\r",
            "Epoch: 27 w= 2.0 loss= 0.0\r",
            "Epoch: 28 w= 2.0 loss= 0.0\r",
            "Epoch: 29 w= 2.0 loss= 0.0\r",
            "Epoch: 30 w= 2.0 loss= 0.0\r",
            "Epoch: 31 w= 2.0 loss= 0.0\r",
            "Epoch: 32 w= 2.0 loss= 0.0\r",
            "Epoch: 33 w= 2.0 loss= 0.0\r",
            "Epoch: 34 w= 2.0 loss= 0.0\r",
            "Epoch: 35 w= 2.0 loss= 0.0\r",
            "Epoch: 36 w= 2.0 loss= 0.0\r",
            "Epoch: 37 w= 2.0 loss= 0.0\r",
            "Epoch: 38 w= 2.0 loss= 0.0\r",
            "Epoch: 39 w= 2.0 loss= 0.0\r",
            "Epoch: 40 w= 2.0 loss= 0.0\r",
            "Epoch: 41 w= 2.0 loss= 0.0\r",
            "Epoch: 42 w= 2.0 loss= 0.0\r",
            "Epoch: 43 w= 2.0 loss= 0.0\r",
            "Epoch: 44 w= 2.0 loss= 0.0\r",
            "Epoch: 45 w= 2.0 loss= 0.0\r",
            "Epoch: 46 w= 2.0 loss= 0.0\r",
            "Epoch: 47 w= 2.0 loss= 0.0\r",
            "Epoch: 48 w= 2.0 loss= 0.0\r",
            "Epoch: 49 w= 2.0 loss= 0.0\r",
            "Epoch: 50 w= 2.0 loss= 0.0\r",
            "Epoch: 51 w= 2.0 loss= 0.0\r",
            "Epoch: 52 w= 2.0 loss= 0.0\r",
            "Epoch: 53 w= 2.0 loss= 0.0\r",
            "Epoch: 54 w= 2.0 loss= 0.0\r",
            "Epoch: 55 w= 2.0 loss= 0.0\r",
            "Epoch: 56 w= 2.0 loss= 0.0\r",
            "Epoch: 57 w= 2.0 loss= 0.0\r",
            "Epoch: 58 w= 2.0 loss= 0.0\r",
            "Epoch: 59 w= 2.0 loss= 0.0\r",
            "Epoch: 60 w= 2.0 loss= 0.0\r",
            "Epoch: 61 w= 2.0 loss= 0.0\r",
            "Epoch: 62 w= 2.0 loss= 0.0\r",
            "Epoch: 63 w= 2.0 loss= 0.0\r",
            "Epoch: 64 w= 2.0 loss= 0.0\r",
            "Epoch: 65 w= 2.0 loss= 0.0\r",
            "Epoch: 66 w= 2.0 loss= 0.0\r",
            "Epoch: 67 w= 2.0 loss= 0.0\r",
            "Epoch: 68 w= 2.0 loss= 0.0\r",
            "Epoch: 69 w= 2.0 loss= 0.0\r",
            "Epoch: 70 w= 2.0 loss= 0.0\r",
            "Epoch: 71 w= 2.0 loss= 0.0\r",
            "Epoch: 72 w= 2.0 loss= 0.0\r",
            "Epoch: 73 w= 2.0 loss= 0.0\r",
            "Epoch: 74 w= 2.0 loss= 0.0\r",
            "Epoch: 75 w= 2.0 loss= 0.0\r",
            "Epoch: 76 w= 2.0 loss= 0.0\r",
            "Epoch: 77 w= 2.0 loss= 0.0\r",
            "Epoch: 78 w= 2.0 loss= 0.0\r",
            "Epoch: 79 w= 2.0 loss= 0.0\r",
            "Epoch: 80 w= 2.0 loss= 0.0\r",
            "Epoch: 81 w= 2.0 loss= 0.0\r",
            "Epoch: 82 w= 2.0 loss= 0.0\r",
            "Epoch: 83 w= 2.0 loss= 0.0\r",
            "Epoch: 84 w= 2.0 loss= 0.0\r",
            "Epoch: 85 w= 2.0 loss= 0.0\r",
            "Epoch: 86 w= 2.0 loss= 0.0\r",
            "Epoch: 87 w= 2.0 loss= 0.0\r",
            "Epoch: 88 w= 2.0 loss= 0.0\r",
            "Epoch: 89 w= 2.0 loss= 0.0\r",
            "Epoch: 90 w= 2.0 loss= 0.0\r",
            "Epoch: 91 w= 2.0 loss= 0.0\r",
            "Epoch: 92 w= 2.0 loss= 0.0\r",
            "Epoch: 93 w= 2.0 loss= 0.0\r",
            "Epoch: 94 w= 2.0 loss= 0.0\r",
            "Epoch: 95 w= 2.0 loss= 0.0\r",
            "Epoch: 96 w= 2.0 loss= 0.0\r",
            "Epoch: 97 w= 2.0 loss= 0.0\r",
            "Epoch: 98 w= 2.0 loss= 0.0\r",
            "Epoch: 99 w= 2.0 loss= 0.0\r"
          ]
        }
      ],
      "source": [
        "# compute gradient\n",
        "def gradient(x, y):  # d_loss/d_w\n",
        "    return 2 * x * (x * w - y)\n",
        "\n",
        "# Training loop\n",
        "for epoch in range(100):\n",
        "    for x_val, y_val in zip(x_data, y_data):\n",
        "        # Compute derivative w.r.t to the learned weights\n",
        "        # Update the weights\n",
        "        # Compute the loss and print progress\n",
        "        grad = gradient(x_val, y_val)\n",
        "        w = w - 0.01 * grad\n",
        "        #print(\"\\tgrad: \", x_val, y_val, round(grad, 2))\n",
        "        y_pred = forward(x_val)\n",
        "        l = loss(y_pred, y_val)\n",
        "    print(\"Epoch:\", epoch, \"w=\", round(w, 2), \"loss=\", round(l, 2),  end='\\r')"
      ]
    },
    {
      "cell_type": "markdown",
      "metadata": {
        "id": "iOa9buvSBPUG"
      },
      "source": [
        "## Mathematics behind Gradient Descent\n",
        "\n",
        "A simple mathematical intuition behind one of the commonly used optimisation algorithms in Machine Learning.\n",
        "\n",
        "https://www.douban.com/note/713353797/"
      ]
    },
    {
      "cell_type": "markdown",
      "metadata": {
        "id": "g6DZGQOVBPUG"
      },
      "source": [
        "The cost or loss function:\n",
        "\n",
        "$$Cost = \\frac{1}{N} \\sum_{i = 1}^N (Y' -Y)^2$$"
      ]
    },
    {
      "cell_type": "markdown",
      "metadata": {
        "id": "XF_b8hEtBPUH"
      },
      "source": [
        "![](https://github.com/chengjun/mybook/blob/main/img/stats/x2.webp?raw=1)"
      ]
    },
    {
      "cell_type": "markdown",
      "metadata": {
        "id": "ov6BXi81BPUH"
      },
      "source": [
        "Parameters with small changes:\n",
        "$$ m_1 = m_0 - \\delta m,  b_1 = b_0 - \\delta b$$\n",
        "\n",
        "The cost function J is a function of m and b:\n",
        "\n",
        "$$J_{m, b} = \\frac{1}{N} \\sum_{i = 1}^N (Y' -Y)^2 = \\frac{1}{N} \\sum_{i = 1}^N Error_i^2$$"
      ]
    },
    {
      "cell_type": "markdown",
      "metadata": {
        "id": "hcxrWdS2BPUH"
      },
      "source": [
        "$$\\frac{\\partial J}{\\partial m} = 2 Error \\frac{\\partial}{\\partial m}Error$$\n",
        "\n",
        "$$\\frac{\\partial J}{\\partial b} = 2 Error \\frac{\\partial}{\\partial b}Error$$"
      ]
    },
    {
      "cell_type": "markdown",
      "metadata": {
        "id": "oCzWEDDwBPUH"
      },
      "source": [
        "Let's fit the data with linear regression:\n",
        "\n",
        "$$\\frac{\\partial}{\\partial m}Error = \\frac{\\partial}{\\partial m}(Y' - Y) = \\frac{\\partial}{\\partial m}(mX + b - Y)$$\n",
        "\n",
        "Since $X, b, Y$ are constant:\n",
        "\n",
        "$$\\frac{\\partial}{\\partial m}Error = X$$"
      ]
    },
    {
      "cell_type": "markdown",
      "metadata": {
        "id": "tLWJFM3tBPUI"
      },
      "source": [
        "$$\\frac{\\partial}{\\partial b}Error = \\frac{\\partial}{\\partial b}(Y' - Y) = \\frac{\\partial}{\\partial b}(mX + b - Y)$$\n",
        "\n",
        "Since $X, m, Y$ are constant:\n",
        "\n",
        "$$\\frac{\\partial}{\\partial m}Error = 1$$"
      ]
    },
    {
      "cell_type": "markdown",
      "metadata": {
        "id": "pAp0A8szBPUI"
      },
      "source": [
        "Thus:\n",
        "    \n",
        "$$\\frac{\\partial J}{\\partial m} = 2 * Error * X$$\n",
        "$$\\frac{\\partial J}{\\partial b} = 2 * Error$$"
      ]
    },
    {
      "cell_type": "markdown",
      "metadata": {
        "id": "jfjtV_31BPUI"
      },
      "source": [
        "Let's get rid of the constant 2 and multiplying the learning rate  $\\alpha$, who determines how large a step to take:\n",
        "\n",
        "$$\\frac{\\partial J}{\\partial m} = Error * X *  \\alpha$$\n",
        "$$\\frac{\\partial J}{\\partial b} = Error * \\alpha$$\n"
      ]
    },
    {
      "cell_type": "markdown",
      "metadata": {
        "id": "B66sBx2ABPUI"
      },
      "source": [
        "Since $ m_1 = m_0 - \\delta m,  b_1 = b_0 - \\delta b$:\n",
        "\n",
        "$$ m_1 = m_0 -  Error * X * \\alpha$$\n",
        "\n",
        "$$b_1 = b_0 - Error * \\alpha$$\n",
        "\n",
        "**Notice** that the slope b can be viewed as the beta value for X = 1. Thus, the above two equations are in essence the same.\n",
        "\n",
        "Let's represent parameters as $\\Theta$, learning rate as $\\alpha$, and gradient as $\\bigtriangledown J(\\Theta)$, we have:\n",
        "\n",
        "\n",
        "$$\\Theta_1 = \\Theta_0 - \\alpha \\bigtriangledown J(\\Theta)$$\n"
      ]
    },
    {
      "cell_type": "markdown",
      "metadata": {
        "id": "sEDwaxvwBPUJ"
      },
      "source": [
        "\n",
        "\n",
        "<img src='https://github.com/chengjun/mybook/blob/main/img/stats/gd.webp?raw=1' width = '800' align = 'center'>"
      ]
    },
    {
      "cell_type": "markdown",
      "metadata": {
        "id": "mGmaNGA6BPUJ"
      },
      "source": [
        "Hence,to solve for the gradient, we iterate through our data points using our new $m$ and $b$ values and compute the partial derivatives. \n",
        "\n",
        "This new gradient tells us \n",
        "- the slope of our cost function at our current position  \n",
        "- the direction we should move to update our parameters. \n",
        "\n",
        "- The size of our update is controlled by the learning rate."
      ]
    },
    {
      "cell_type": "code",
      "execution_count": null,
      "metadata": {
        "ExecuteTime": {
          "end_time": "2019-04-07T16:16:42.584919Z",
          "start_time": "2019-04-07T16:16:42.573596Z"
        },
        "id": "RDhkhVUFBPUJ"
      },
      "outputs": [],
      "source": [
        "import numpy as np\n",
        "\n",
        "# Size of the points dataset.\n",
        "m = 20\n",
        "# Points x-coordinate and dummy value (x0, x1).\n",
        "X0 = np.ones((m, 1))\n",
        "X1 = np.arange(1, m+1).reshape(m, 1)\n",
        "X = np.hstack((X0, X1))\n",
        "# Points y-coordinate\n",
        "y = np.array([3, 4, 5, 5, 2, 4, 7, 8, 11, 8, 12,\n",
        "    11, 13, 13, 16, 17, 18, 17, 19, 21]).reshape(m, 1)\n",
        "\n",
        "# The Learning Rate alpha.\n",
        "alpha = 0.01"
      ]
    },
    {
      "cell_type": "code",
      "execution_count": null,
      "metadata": {
        "ExecuteTime": {
          "end_time": "2019-04-07T16:17:04.134904Z",
          "start_time": "2019-04-07T16:17:04.108505Z"
        },
        "id": "JZtL6mWQBPUK"
      },
      "outputs": [],
      "source": [
        "def error_function(theta, X, y):\n",
        "    '''Error function J definition.'''\n",
        "    diff = np.dot(X, theta) - y\n",
        "    return (1./2*m) * np.dot(np.transpose(diff), diff)\n",
        "\n",
        "def gradient_function(theta, X, y):\n",
        "    '''Gradient of the function J definition.'''\n",
        "    diff = np.dot(X, theta) - y\n",
        "    return (1./m) * np.dot(np.transpose(X), diff)\n",
        "\n",
        "def gradient_descent(X, y, alpha):\n",
        "    '''Perform gradient descent.'''\n",
        "    theta = np.array([1, 1]).reshape(2, 1)\n",
        "    gradient = gradient_function(theta, X, y)\n",
        "    while not np.all(np.absolute(gradient) <= 1e-5):\n",
        "        theta = theta - alpha * gradient\n",
        "        gradient = gradient_function(theta, X, y)\n",
        "    return theta\n",
        "\n"
      ]
    },
    {
      "cell_type": "code",
      "execution_count": null,
      "metadata": {
        "ExecuteTime": {
          "end_time": "2019-04-07T16:19:07.236028Z",
          "start_time": "2019-04-07T16:19:07.171443Z"
        },
        "id": "PTnv6td8BPUK",
        "outputId": "4daa673e-75f5-431a-f0fe-96ade55c0fbe"
      },
      "outputs": [
        {
          "name": "stdout",
          "output_type": "stream",
          "text": [
            "Optimal parameters Theta: 0.5158328581734093 0.9699216324486175\n",
            "Error function: 405.98496249324046\n"
          ]
        }
      ],
      "source": [
        "optimal = gradient_descent(X, y, alpha)\n",
        "print('Optimal parameters Theta:', optimal[0][0], optimal[1][0])\n",
        "print('Error function:', error_function(optimal, X, y)[0,0])\n"
      ]
    },
    {
      "cell_type": "markdown",
      "metadata": {
        "id": "k2-TMOQ4BPUL"
      },
      "source": [
        "## Estimating the Gradient"
      ]
    },
    {
      "cell_type": "markdown",
      "metadata": {
        "id": "eSGXIvn1BPUL"
      },
      "source": [
        "If f is a function of one variable, its derivative at a point x measures how f(x) changes when we make a very small change to x. \n",
        "\n",
        "> It is defined as the limit of the difference quotie"
      ]
    },
    {
      "cell_type": "code",
      "execution_count": null,
      "metadata": {
        "ExecuteTime": {
          "end_time": "2019-04-07T16:08:29.774271Z",
          "start_time": "2019-04-07T16:08:29.771043Z"
        },
        "id": "tsxQonbzBPUL"
      },
      "outputs": [],
      "source": [
        "def difference_quotient(f, x, h):\n",
        "    return (f(x + h) - f(x)) / h"
      ]
    },
    {
      "cell_type": "markdown",
      "metadata": {
        "id": "GhasS1sKBPUM"
      },
      "source": [
        "For many functions it’s easy to exactly calculate derivatives. \n",
        "\n",
        "For example, the square function:\n",
        "\n",
        "        def square(x): \n",
        "            return x * x\n",
        "\n",
        "has the derivative:\n",
        "    \n",
        "        def derivative(x): \n",
        "            return 2 * x"
      ]
    },
    {
      "cell_type": "code",
      "execution_count": null,
      "metadata": {
        "ExecuteTime": {
          "end_time": "2019-04-07T16:08:30.714322Z",
          "start_time": "2019-04-07T16:08:30.709209Z"
        },
        "id": "0d7g5-NiBPUM"
      },
      "outputs": [],
      "source": [
        "def square(x):\n",
        "    return x * x\n",
        "\n",
        "def derivative(x):\n",
        "    return 2 * x\n",
        "\n",
        "derivative_estimate = lambda x: difference_quotient(square, x, h=0.00001)"
      ]
    },
    {
      "cell_type": "code",
      "execution_count": null,
      "metadata": {
        "ExecuteTime": {
          "end_time": "2019-04-07T16:09:28.375610Z",
          "start_time": "2019-04-07T16:09:28.372132Z"
        },
        "id": "d32fAbyiBPUM"
      },
      "outputs": [],
      "source": [
        "def sum_of_squares(v):\n",
        "    \"\"\"computes the sum of squared elements in v\"\"\"\n",
        "    return sum(v_i ** 2 for v_i in v)"
      ]
    },
    {
      "cell_type": "code",
      "execution_count": null,
      "metadata": {
        "ExecuteTime": {
          "end_time": "2019-04-07T16:11:00.628162Z",
          "start_time": "2019-04-07T16:11:00.425853Z"
        },
        "id": "nzT25OQyBPUN",
        "outputId": "02780a8d-de3a-450a-9b84-b498ed7d19cd"
      },
      "outputs": [
        {
          "data": {
            "image/png": "[encoded data removed]",
            "text/plain": [
              "<Figure size 432x288 with 1 Axes>"
            ]
          },
          "metadata": {},
          "output_type": "display_data"
        }
      ],
      "source": [
        "# plot to show they're basically the same\n",
        "import matplotlib.pyplot as plt\n",
        "x = range(-10,10)\n",
        "plt.plot(x, list(map(derivative, x)), 'rx')           # red  x\n",
        "plt.plot(x, list(map(derivative_estimate, x)), 'b+')  # blue +\n",
        "plt.show()"
      ]
    },
    {
      "cell_type": "markdown",
      "metadata": {
        "id": "Nv0D6yEvBPUO"
      },
      "source": [
        "When f is a function of many variables, it has multiple partial derivatives."
      ]
    },
    {
      "cell_type": "code",
      "execution_count": null,
      "metadata": {
        "ExecuteTime": {
          "end_time": "2019-04-07T16:08:32.859665Z",
          "start_time": "2019-04-07T16:08:32.850606Z"
        },
        "id": "8iyD1QAPBPUb"
      },
      "outputs": [],
      "source": [
        "def partial_difference_quotient(f, v, i, h):\n",
        "    # add h to just the i-th element of v\n",
        "    w = [v_j + (h if j == i else 0)\n",
        "         for j, v_j in enumerate(v)]\n",
        "    return (f(w) - f(v)) / h\n",
        "\n",
        "def estimate_gradient(f, v, h=0.00001):\n",
        "    return [partial_difference_quotient(f, v, i, h)\n",
        "            for i, _ in enumerate(v)]"
      ]
    },
    {
      "cell_type": "markdown",
      "metadata": {
        "id": "PJ9ED3cyBPUc"
      },
      "source": [
        "### Using the Gradient"
      ]
    },
    {
      "cell_type": "code",
      "execution_count": null,
      "metadata": {
        "ExecuteTime": {
          "end_time": "2019-04-07T16:08:34.771460Z",
          "start_time": "2019-04-07T16:08:34.766201Z"
        },
        "id": "emeLTN8rBPUc"
      },
      "outputs": [],
      "source": [
        "def step(v, direction, step_size):\n",
        "    \"\"\"move step_size in the direction from v\"\"\"\n",
        "    return [v_i + step_size * direction_i\n",
        "            for v_i, direction_i in zip(v, direction)]\n",
        "\n",
        "def sum_of_squares_gradient(v):\n",
        "    return [2 * v_i for v_i in v]"
      ]
    },
    {
      "cell_type": "code",
      "execution_count": null,
      "metadata": {
        "ExecuteTime": {
          "end_time": "2019-04-07T16:30:36.585523Z",
          "start_time": "2019-04-07T16:30:36.581608Z"
        },
        "id": "3mTqXQ2nBPUd"
      },
      "outputs": [],
      "source": [
        "from collections import Counter\n",
        "from linear_algebra import distance, vector_subtract, scalar_multiply\n",
        "from functools import reduce\n",
        "import math, random"
      ]
    },
    {
      "cell_type": "code",
      "execution_count": null,
      "metadata": {
        "ExecuteTime": {
          "end_time": "2019-04-07T16:34:01.449426Z",
          "start_time": "2019-04-07T16:34:01.419878Z"
        },
        "id": "iLjbuvo9BPUd",
        "outputId": "20810ec1-5b84-4b32-a04a-73bd6c8ec324"
      },
      "outputs": [
        {
          "name": "stdout",
          "output_type": "stream",
          "text": [
            "using the gradient\n",
            "[-4, 10, 6]\n",
            "[-4, 10, 6] 152\n",
            "[-1.4566787203484681, 3.641696800871171, 2.1850180805227026] 20.15817249600249\n",
            "[-0.5304782235790126, 1.3261955589475318, 0.7957173353685193] 2.6733678840696777\n",
            "[-0.19318408497395115, 0.482960212434878, 0.28977612746092685] 0.35454086152861664\n",
            "[-0.07035178642288623, 0.17587946605721566, 0.10552767963432938] 0.04701905160246833\n",
            "[-0.025619987555179666, 0.0640499688879492, 0.03842998133276951] 0.006235645742111834\n",
            "[-0.0093300226718057, 0.023325056679514268, 0.013995034007708552] 0.0008269685690358806\n",
            "[-0.0033977113715970304, 0.008494278428992584, 0.005096567057395551] 0.00010967220436445803\n",
            "[-0.0012373434632228497, 0.003093358658057131, 0.0018560151948342769] 1.4544679036813049e-05\n",
            "[-0.0004506029731597509, 0.0011265074328993788, 0.0006759044597396269] 1.9289088744938724e-06\n",
            "[-0.00016409594058189027, 0.00041023985145472635, 0.00024614391087283554] 2.558110382968256e-07\n",
            "[-5.975876618530154e-05, 0.00014939691546325416, 8.963814927795238e-05] 3.3925546291900725e-08\n",
            "[-2.1762330764102098e-05, 5.440582691025532e-05, 3.264349614615315e-05] 4.499190882718763e-09\n",
            "[-7.925181032313087e-06, 1.9812952580782747e-05, 1.1887771548469638e-05] 5.96680696751885e-10\n",
            "[-2.8861106411699463e-06, 7.215276602924873e-06, 4.32916596175492e-06] 7.913152901420692e-11\n",
            "minimum v [-1.6064572436336709e-06, 4.0161431090841815e-06, 2.409685865450507e-06]\n",
            "minimum value 2.4516696318419405e-11\n"
          ]
        }
      ],
      "source": [
        "print(\"using the gradient\")\n",
        "\n",
        "# generate 3 numbers \n",
        "v = [random.randint(-10,10) for i in range(3)]\n",
        "print(v)\n",
        "tolerance = 0.0000001\n",
        "\n",
        "n = 0\n",
        "while True:\n",
        "    gradient = sum_of_squares_gradient(v)   # compute the gradient at v\n",
        "    if n%50 ==0:\n",
        "        print(v, sum_of_squares(v))\n",
        "    next_v = step(v, gradient, -0.01)       # take a negative gradient step\n",
        "    if distance(next_v, v) < tolerance:     # stop if we're converging\n",
        "        break\n",
        "    v = next_v                              # continue if we're not\n",
        "    n += 1\n",
        "\n",
        "print(\"minimum v\", v)\n",
        "print(\"minimum value\", sum_of_squares(v))"
      ]
    },
    {
      "cell_type": "markdown",
      "metadata": {
        "id": "sEOkSN8_BPUd"
      },
      "source": [
        "### Choosing the Right Step Size"
      ]
    },
    {
      "cell_type": "markdown",
      "metadata": {
        "id": "g7VcTizyBPUe"
      },
      "source": [
        "Although the rationale for moving against the gradient is clear, \n",
        "- how far to move is not. \n",
        "    - Indeed, choosing the right step size is more of an art than a science."
      ]
    },
    {
      "cell_type": "markdown",
      "metadata": {
        "id": "0gDPBmaqBPUe"
      },
      "source": [
        "Methods:\n",
        "1. Using a fixed step size\n",
        "1. Gradually shrinking the step size over time\n",
        "1. At each step, choosing the step size that minimizes the value of the objective function"
      ]
    },
    {
      "cell_type": "code",
      "execution_count": null,
      "metadata": {
        "ExecuteTime": {
          "end_time": "2019-04-07T16:13:14.748507Z",
          "start_time": "2019-04-07T16:13:14.745314Z"
        },
        "id": "SgHoGC5dBPUj"
      },
      "outputs": [],
      "source": [
        "step_sizes = [100, 10, 1, 0.1, 0.01, 0.001, 0.0001, 0.00001]"
      ]
    },
    {
      "cell_type": "markdown",
      "metadata": {
        "id": "B_f6iv6cBPUk"
      },
      "source": [
        "It is possible that certain step sizes will result in invalid inputs for our function. \n",
        "\n",
        "So we’ll need to create a “safe apply” function\n",
        "- returns infinity for invalid inputs:\n",
        "    - which should never be the minimum of anything"
      ]
    },
    {
      "cell_type": "code",
      "execution_count": null,
      "metadata": {
        "ExecuteTime": {
          "end_time": "2019-04-07T16:13:15.408907Z",
          "start_time": "2019-04-07T16:13:15.403349Z"
        },
        "id": "e-9MZRQ5BPUk"
      },
      "outputs": [],
      "source": [
        "def safe(f):\n",
        "    \"\"\"define a new function that wraps f and return it\"\"\"\n",
        "    def safe_f(*args, **kwargs):\n",
        "        try:\n",
        "            return f(*args, **kwargs)\n",
        "        except:\n",
        "            return float('inf')  # this means \"infinity\" in Python\n",
        "    return safe_f"
      ]
    },
    {
      "cell_type": "markdown",
      "metadata": {
        "id": "PC_m80EHBPUk"
      },
      "source": [
        "### Putting It All Together"
      ]
    },
    {
      "cell_type": "markdown",
      "metadata": {
        "id": "AZnM3XTvBPUl"
      },
      "source": [
        "- **target_fn** that we want to minimize\n",
        "- **gradient_fn**. \n",
        "\n",
        "For example, the target_fn could represent the errors in a model as a function of its parameters, \n",
        "\n",
        "To choose a starting value for the parameters `theta_0`. "
      ]
    },
    {
      "cell_type": "code",
      "execution_count": null,
      "metadata": {
        "ExecuteTime": {
          "end_time": "2019-04-07T16:13:17.051767Z",
          "start_time": "2019-04-07T16:13:17.028782Z"
        },
        "code_folding": [],
        "id": "I6QeduieBPUl"
      },
      "outputs": [],
      "source": [
        "def minimize_batch(target_fn, gradient_fn, theta_0, tolerance=0.000001):\n",
        "    \"\"\"use gradient descent to find theta that minimizes target function\"\"\"\n",
        "\n",
        "    step_sizes = [100, 10, 1, 0.1, 0.01, 0.001, 0.0001, 0.00001]\n",
        "\n",
        "    theta = theta_0                           # set theta to initial value\n",
        "    target_fn = safe(target_fn)               # safe version of target_fn\n",
        "    value = target_fn(theta)                  # value we're minimizing\n",
        "\n",
        "    while True:\n",
        "        gradient = gradient_fn(theta)\n",
        "        next_thetas = [step(theta, gradient, -step_size)\n",
        "                       for step_size in step_sizes]\n",
        "\n",
        "        # choose the one that minimizes the error function\n",
        "        next_theta = min(next_thetas, key=target_fn)\n",
        "        next_value = target_fn(next_theta)\n",
        "\n",
        "        # stop if we're \"converging\"\n",
        "        if abs(value - next_value) < tolerance:\n",
        "            return theta\n",
        "        else:\n",
        "            theta, value = next_theta, next_value"
      ]
    },
    {
      "cell_type": "code",
      "execution_count": null,
      "metadata": {
        "ExecuteTime": {
          "end_time": "2019-04-07T16:13:17.853373Z",
          "start_time": "2019-04-07T16:13:17.845012Z"
        },
        "id": "DV5csr2MBPUl",
        "outputId": "357729f6-617f-41e6-cf4e-6ea6a6610a83"
      },
      "outputs": [
        {
          "name": "stdout",
          "output_type": "stream",
          "text": [
            "minimum v [0.0009304595970494407, -0.001196305196206424, -0.00026584559915698326]\n",
            "minimum value 2.367575066803034e-06\n"
          ]
        }
      ],
      "source": [
        "# minimize_batch\"\n",
        "v = [random.randint(-10,10) for i in range(3)]\n",
        "v = minimize_batch(sum_of_squares, sum_of_squares_gradient, v)\n",
        "print(\"minimum v\", v)\n",
        "print(\"minimum value\", sum_of_squares(v))"
      ]
    },
    {
      "cell_type": "markdown",
      "metadata": {
        "id": "waAD9U0mBPUm"
      },
      "source": [
        "Sometimes we’ll instead want to maximize a function, which we can do by minimizing its negative"
      ]
    },
    {
      "cell_type": "code",
      "execution_count": null,
      "metadata": {
        "ExecuteTime": {
          "end_time": "2018-10-27T07:13:08.983326Z",
          "start_time": "2018-10-27T07:13:08.974094Z"
        },
        "id": "dVvKNo5zBPUm"
      },
      "outputs": [],
      "source": [
        "def negate(f):\n",
        "    \"\"\"return a function that for any input x returns -f(x)\"\"\"\n",
        "    return lambda *args, **kwargs: -f(*args, **kwargs)\n",
        "\n",
        "def negate_all(f):\n",
        "    \"\"\"the same when f returns a list of numbers\"\"\"\n",
        "    return lambda *args, **kwargs: [-y for y in f(*args, **kwargs)]\n",
        "\n",
        "def maximize_batch(target_fn, gradient_fn, theta_0, tolerance=0.000001):\n",
        "    return minimize_batch(negate(target_fn),\n",
        "                          negate_all(gradient_fn),\n",
        "                          theta_0,\n",
        "                          tolerance)"
      ]
    },
    {
      "cell_type": "markdown",
      "metadata": {
        "id": "fsBo0fGgBPUn"
      },
      "source": [
        "Using the batch approach, each gradient step requires us to make a prediction and compute the gradient for the whole data set, which makes each step take a long time."
      ]
    },
    {
      "cell_type": "markdown",
      "metadata": {
        "id": "SNqdgblbBPUn"
      },
      "source": [
        "Error functions are additive\n",
        "- The predictive error on the whole data set is simply the sum of the predictive errors for each data point.\n",
        "\n",
        "When this is the case, we can instead apply a technique called **stochastic gradient descent** \n",
        "- which computes the gradient (and takes a step) for only one point at a time. \n",
        "- It cycles over our data repeatedly until it reaches a stopping point."
      ]
    },
    {
      "cell_type": "markdown",
      "metadata": {
        "id": "N2XY_IcqBPUn"
      },
      "source": [
        "## Stochastic Gradient Descent"
      ]
    },
    {
      "cell_type": "markdown",
      "metadata": {
        "id": "Wz1V0VC8BPUo"
      },
      "source": [
        "During each cycle, we’ll want to iterate through our data in a random order:"
      ]
    },
    {
      "cell_type": "code",
      "execution_count": null,
      "metadata": {
        "ExecuteTime": {
          "end_time": "2018-10-27T07:20:12.768921Z",
          "start_time": "2018-10-27T07:20:12.763245Z"
        },
        "id": "OFxDpV3kBPUo"
      },
      "outputs": [],
      "source": [
        "def in_random_order(data):\n",
        "    \"\"\"generator that returns the elements of data in random order\"\"\"\n",
        "    indexes = [i for i, _ in enumerate(data)]  # create a list of indexes\n",
        "    random.shuffle(indexes)                    # shuffle them\n",
        "    for i in indexes:                          # return the data in that order\n",
        "        yield data[i]"
      ]
    },
    {
      "cell_type": "markdown",
      "metadata": {
        "id": "E7XJgobtBPUp"
      },
      "source": [
        "This approach avoids circling around near a minimum forever\n",
        "- whenever we stop getting improvements we’ll decrease the step size and eventually quit."
      ]
    },
    {
      "cell_type": "code",
      "execution_count": null,
      "metadata": {
        "ExecuteTime": {
          "end_time": "2018-10-28T07:35:19.050828Z",
          "start_time": "2018-10-28T07:35:19.015811Z"
        },
        "id": "X_0rm6K1BPUq"
      },
      "outputs": [],
      "source": [
        "def minimize_stochastic(target_fn, gradient_fn, x, y, theta_0, alpha_0=0.01):\n",
        "    data = list(zip(x, y))\n",
        "    theta = theta_0                             # initial guess\n",
        "    alpha = alpha_0                             # initial step size\n",
        "    min_theta, min_value = None, float(\"inf\")   # the minimum so far\n",
        "    iterations_with_no_improvement = 0\n",
        "\n",
        "    # if we ever go 100 iterations with no improvement, stop\n",
        "    while iterations_with_no_improvement < 100:\n",
        "        value = sum( target_fn(x_i, y_i, theta) for x_i, y_i in data )\n",
        "\n",
        "        if value < min_value:\n",
        "            # if we've found a new minimum, remember it\n",
        "            # and go back to the original step size\n",
        "            min_theta, min_value = theta, value\n",
        "            iterations_with_no_improvement = 0\n",
        "            alpha = alpha_0\n",
        "        else:\n",
        "            # otherwise we're not improving, so try shrinking the step size\n",
        "            iterations_with_no_improvement += 1\n",
        "            alpha *= 0.9\n",
        "\n",
        "        # and take a gradient step for each of the data points\n",
        "        for x_i, y_i in in_random_order(data):\n",
        "            gradient_i = gradient_fn(x_i, y_i, theta)\n",
        "            theta = vector_subtract(theta, scalar_multiply(alpha, gradient_i))\n",
        "\n",
        "    return min_theta"
      ]
    },
    {
      "cell_type": "code",
      "execution_count": null,
      "metadata": {
        "ExecuteTime": {
          "end_time": "2018-10-28T07:35:20.053076Z",
          "start_time": "2018-10-28T07:35:20.048925Z"
        },
        "id": "HJD1O5ErBPUq"
      },
      "outputs": [],
      "source": [
        "def maximize_stochastic(target_fn, gradient_fn, x, y, theta_0, alpha_0=0.01):\n",
        "    return minimize_stochastic(negate(target_fn),\n",
        "                               negate_all(gradient_fn),\n",
        "                               x, y, theta_0, alpha_0)\n"
      ]
    },
    {
      "cell_type": "code",
      "execution_count": null,
      "metadata": {
        "ExecuteTime": {
          "end_time": "2018-10-28T07:45:14.892154Z",
          "start_time": "2018-10-28T07:45:14.862917Z"
        },
        "id": "Fs-726B6BPUr"
      },
      "outputs": [],
      "source": [
        "print(\"using minimize_stochastic_batch\")\n",
        "\n",
        "x = list(range(101))\n",
        "y = [3*x_i + random.randint(-10, 20) for x_i in x]\n",
        "theta_0 = random.randint(-10,10) \n",
        "v = minimize_stochastic(sum_of_squares, sum_of_squares_gradient, x, y, theta_0)\n",
        "\n",
        "print(\"minimum v\", v)\n",
        "print(\"minimum value\", sum_of_squares(v))\n",
        "    "
      ]
    },
    {
      "cell_type": "markdown",
      "metadata": {
        "id": "RNUFQUvrBPUs"
      },
      "source": [
        "Scikit-learn has a Stochastic Gradient Descent module  http://scikit-learn.org/stable/modules/sgd.html"
      ]
    }
  ],
  "metadata": {
    "celltoolbar": "幻灯片",
    "kernelspec": {
      "display_name": "Python 3",
      "language": "python",
      "name": "python3"
    },
    "language_info": {
      "codemirror_mode": {
        "name": "ipython",
        "version": 3
      },
      "file_extension": ".py",
      "mimetype": "text/x-python",
      "name": "python",
      "nbconvert_exporter": "python",
      "pygments_lexer": "ipython3",
      "version": "3.7.6"
    },
    "latex_envs": {
      "LaTeX_envs_menu_present": true,
      "autoclose": false,
      "autocomplete": true,
      "bibliofile": "biblio.bib",
      "cite_by": "apalike",
      "current_citInitial": 1,
      "eqLabelWithNumbers": true,
      "eqNumInitial": 1,
      "hotkeys": {
        "equation": "Ctrl-E",
        "itemize": "Ctrl-I"
      },
      "labels_anchors": false,
      "latex_user_defs": false,
      "report_style_numbering": false,
      "user_envs_cfg": false
    },
    "toc": {
      "base_numbering": 1,
      "nav_menu": {},
      "number_sections": false,
      "sideBar": true,
      "skip_h1_title": false,
      "title_cell": "Table of Contents",
      "title_sidebar": "Contents",
      "toc_cell": false,
      "toc_position": {},
      "toc_section_display": true,
      "toc_window_display": false
    },
    "colab": {
      "provenance": [],
      "toc_visible": true,
      "include_colab_link": true
    }
  },
  "nbformat": 4,
  "nbformat_minor": 0
}