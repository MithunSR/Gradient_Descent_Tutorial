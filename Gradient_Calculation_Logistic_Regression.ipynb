{
  "nbformat": 4,
  "nbformat_minor": 0,
  "metadata": {
    "colab": {
      "provenance": [],
      "authorship_tag": "ABX9TyP2eMcJhxucji/M1kyL81Rj",
      "include_colab_link": true
    },
    "kernelspec": {
      "name": "python3",
      "display_name": "Python 3"
    },
    "language_info": {
      "name": "python"
    }
  },
  "cells": [
    {
      "cell_type": "markdown",
      "metadata": {
        "id": "view-in-github",
        "colab_type": "text"
      },
      "source": [
        "<a href=\"https://colab.research.google.com/github/MithunSR/Gradient_Descent_Tutorial/blob/main/Gradient_Calculation_Logistic_Regression.ipynb\" target=\"_parent\"><img src=\"https://colab.research.google.com/assets/colab-badge.svg\" alt=\"Open In Colab\"/></a>"
      ]
    },
    {
      "cell_type": "markdown",
      "source": [
        "#Introduction:\n",
        "The provided code demonstrates how to calculate the gradient of a logistic regression model using the sigmoid function. It uses the Breast Cancer dataset from scikit-learn as a real-world example. The goal is to train a logistic regression model to predict whether a breast cancer tumor is benign or malignant."
      ],
      "metadata": {
        "id": "rxdgCqIGFKXY"
      }
    },
    {
      "cell_type": "markdown",
      "source": [
        "##Dataset Loading and Preprocessing:\n",
        "The code begins by loading the Breast Cancer dataset using the load_breast_cancer function from sklearn.datasets. The feature matrix X and the target vector y are extracted from the dataset. The data is then split into training and test sets using train_test_split from sklearn.model_selection. The feature matrix is transposed to have the shape (n_features, n_samples), and the target vector is reshaped to have the shape (1, n_samples)."
      ],
      "metadata": {
        "id": "gNdxr4lJFSHV"
      }
    },
    {
      "cell_type": "code",
      "execution_count": 6,
      "metadata": {
        "id": "SmUVFkhYEPIE"
      },
      "outputs": [],
      "source": [
        "import numpy as np\n",
        "import matplotlib.pyplot as plt\n",
        "from sklearn.datasets import load_breast_cancer\n",
        "from sklearn.model_selection import train_test_split\n",
        "\n",
        "# Load the Breast Cancer dataset\n",
        "data = load_breast_cancer()\n",
        "X = data.data\n",
        "y = data.target\n",
        "\n",
        "# Preprocess the data\n",
        "X_train, X_test, y_train, y_test = train_test_split(X, y, test_size=0.2, random_state=42)\n",
        "X_train = X_train.T  # Transpose X_train to have shape (n_features, n_samples)\n",
        "X_test = X_test.T  # Transpose X_test to have shape (n_features, n_samples)\n",
        "y_train = y_train.reshape(1, -1)\n",
        "y_test = y_test.reshape(1, -1)\n"
      ]
    },
    {
      "cell_type": "markdown",
      "source": [
        "##Sigmoid Function Definition:\n",
        "The sigmoid function is defined as sigmoid(z) = 1 / (1 + exp(-z)). It takes a scalar or an array z as input and returns the corresponding sigmoid activation values."
      ],
      "metadata": {
        "id": "Nc442ersFXyi"
      }
    },
    {
      "cell_type": "code",
      "source": [
        "# Define the sigmoid function\n",
        "def sigmoid(z):\n",
        "    return 1 / (1 + np.exp(-z))"
      ],
      "metadata": {
        "id": "YhyJFV1CFako"
      },
      "execution_count": 7,
      "outputs": []
    },
    {
      "cell_type": "markdown",
      "source": [
        "##Parameter Initialization:\n",
        "The parameters theta are initialized as a column vector of zeros with shape (n_features, 1). These parameters will be learned during the training process."
      ],
      "metadata": {
        "id": "ybKU9bWSFeo_"
      }
    },
    {
      "cell_type": "code",
      "source": [
        "# Initialize the parameters\n",
        "n_features, n_samples = X_train.shape\n",
        "theta = np.zeros((n_features, 1))"
      ],
      "metadata": {
        "id": "Whlqt5ymFfj1"
      },
      "execution_count": 8,
      "outputs": []
    },
    {
      "cell_type": "markdown",
      "source": [
        "##Gradient Calculation:\n",
        "The gradient calculation is performed iteratively for the specified number of iterations. Each iteration consists of the following steps:\n",
        "\n",
        "a. Forward Propagation:\n",
        "\n",
        "   - The dot product `z` is computed as the matrix multiplication of `theta.T` and `X_train`. This represents the linear transformation of the input features.\n",
        "   - The sigmoid function is applied to `z` to obtain the predicted probabilities `y_pred`.\n",
        "\n",
        "b. Cost Computation:\n",
        "\n",
        "   - The cost is calculated using the binary cross-entropy loss formula: `-mean(y_train * log(y_pred) + (1 - y_train) * log(1 - y_pred))`. This measures the discrepancy between the predicted probabilities and the actual target values.\n",
        "\n",
        "c. Backward Propagation:\n",
        "\n",
        "   - The difference between the predicted probabilities and the actual target values is computed as `dz = y_pred - y_train`.\n",
        "   - The gradient with respect to the parameters is calculated as `dw = (1 / n_samples) * dot(X_train, dz.T)`. This represents the average contribution of each training sample to the cost function.\n",
        "\n",
        "d. Parameter Update:\n",
        "\n",
        "   - The parameters `theta` are updated using gradient descent: `theta = theta - learning_rate * dw`. The learning rate determines the step size in the direction of steepest descent.\n"
      ],
      "metadata": {
        "id": "Ti-eEvxOFnQ-"
      }
    },
    {
      "cell_type": "code",
      "source": [
        "# Perform gradient calculation\n",
        "num_iterations = 10000\n",
        "learning_rate = 0.00001\n",
        "\n",
        "costs = []\n",
        "\n",
        "for iteration in range(num_iterations):\n",
        "    # Forward propagation\n",
        "    z = np.dot(theta.T, X_train)\n",
        "    y_pred = sigmoid(z)\n",
        "\n",
        "    # Compute the cost\n",
        "    cost = -np.mean(y_train * np.log(y_pred) + (1 - y_train) * np.log(1 - y_pred))\n",
        "    costs.append(cost)\n",
        "\n",
        "    # Backward propagation\n",
        "    dz = y_pred - y_train\n",
        "    dw = (1 / n_samples) * np.dot(X_train, dz.T)\n",
        "\n",
        "    # Update the parameters\n",
        "    theta = theta - learning_rate * dw"
      ],
      "metadata": {
        "id": "DtEnQq3FFntH"
      },
      "execution_count": 9,
      "outputs": []
    },
    {
      "cell_type": "markdown",
      "source": [
        "##Cost Plotting:\n",
        "After the iterations, the cost values from each iteration are collected in the costs list. The code then plots the cost over iterations to visualize the convergence of the algorithm.\n"
      ],
      "metadata": {
        "id": "AIKKatzhGUL9"
      }
    },
    {
      "cell_type": "code",
      "source": [
        "# Plot the cost over iterations\n",
        "plt.plot(costs)\n",
        "plt.xlabel('Iteration')\n",
        "plt.ylabel('Cost')\n",
        "plt.title('Cost over Iterations')\n",
        "plt.show()"
      ],
      "metadata": {
        "colab": {
          "base_uri": "https://localhost:8080/",
          "height": 472
        },
        "id": "Aes6BTF6GTf8",
        "outputId": "a8cbfd8b-c74d-467a-9466-50ba96c95fbf"
      },
      "execution_count": 10,
      "outputs": [
        {
          "output_type": "display_data",
          "data": {
            "text/plain": [
              "<Figure size 640x480 with 1 Axes>"
            ],
            "image/png": "[encoded data removed]"
          },
          "metadata": {}
        }
      ]
    },
    {
      "cell_type": "markdown",
      "source": [
        "Overall, the code showcases the process of training a logistic regression model by iteratively calculating the gradients using forward and backward propagation, and updating the parameters using gradient descent. The goal is to minimize the cost function and achieve accurate predictions on the Breast Cancer dataset."
      ],
      "metadata": {
        "id": "bpah1irEGcAY"
      }
    }
  ]
}