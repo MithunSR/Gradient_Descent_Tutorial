{
  "nbformat": 4,
  "nbformat_minor": 0,
  "metadata": {
    "colab": {
      "provenance": [],
      "authorship_tag": "ABX9TyOEADMS8NkM9/MqADqjZhGn",
      "include_colab_link": true
    },
    "kernelspec": {
      "name": "python3",
      "display_name": "Python 3"
    },
    "language_info": {
      "name": "python"
    }
  },
  "cells": [
    {
      "cell_type": "markdown",
      "metadata": {
        "id": "view-in-github",
        "colab_type": "text"
      },
      "source": [
        "<a href=\"https://colab.research.google.com/github/MithunSR/Gradient_Descent_Tutorial/blob/main/Cost_Function_Hinge_loss_SVM.ipynb\" target=\"_parent\"><img src=\"https://colab.research.google.com/assets/colab-badge.svg\" alt=\"Open In Colab\"/></a>"
      ]
    },
    {
      "cell_type": "markdown",
      "source": [
        "#Introduction\n",
        "The hinge loss function is a popular choice for optimizing support vector machine (SVM) models in binary classification tasks. It is designed to measure the performance of a model by penalizing misclassifications. The hinge loss function is particularly useful when dealing with linearly separable data, where the goal is to find a hyperplane that maximally separates the two classes. Mathematically, the hinge loss function is defined as the maximum of 0 and the difference between the predicted score and the true label multiplied by a margin parameter. The margin parameter controls the level of tolerance for misclassifications and affects the decision boundary of the SVM model. By minimizing the hinge loss, SVM models aim to find the optimal hyperplane that achieves a good trade-off between maximizing the margin and minimizing classification errors. The hinge loss function provides a robust and intuitive way to guide the training process of SVM models, making it a widely used cost function in machine learning."
      ],
      "metadata": {
        "id": "yu9GBL4Th1-v"
      }
    },
    {
      "cell_type": "markdown",
      "source": [
        "#Develop Model"
      ],
      "metadata": {
        "id": "894i3dY6h8A1"
      }
    },
    {
      "cell_type": "markdown",
      "source": [
        "##Importing Libraries and Dataset:\n",
        "\n",
        "We import the necessary libraries, including NumPy for numerical computations, Matplotlib for visualization, and scikit-learn's load_breast_cancer and train_test_split functions for loading the Breast Cancer Wisconsin dataset and splitting it into training and testing sets, respectively."
      ],
      "metadata": {
        "id": "P95iudTgmfg8"
      }
    },
    {
      "cell_type": "code",
      "source": [
        "import numpy as np\n",
        "import matplotlib.pyplot as plt\n",
        "from sklearn.datasets import load_breast_cancer\n",
        "from sklearn.model_selection import train_test_split\n"
      ],
      "metadata": {
        "id": "CjFNQp7rcKuU"
      },
      "execution_count": 1,
      "outputs": []
    },
    {
      "cell_type": "markdown",
      "source": [
        "##Loading and Splitting the Dataset:\n",
        "\n",
        "We load the Breast Cancer Wisconsin dataset using load_breast_cancer and assign the feature data to X and the target variable to y.\n",
        "Then, we split the dataset into training and testing sets using train_test_split. Here, we assign 80% of the data to the training set (X_train and y_train) and 20% to the testing set (X_test and y_test)."
      ],
      "metadata": {
        "id": "fK3h_pAWmiHB"
      }
    },
    {
      "cell_type": "code",
      "source": [
        "# Load the Breast Cancer Wisconsin dataset\n",
        "data = load_breast_cancer()\n",
        "\n",
        "# Extract the features and target variable\n",
        "X = data.data\n",
        "y = data.target\n",
        "\n",
        "# Split the dataset into training and testing sets\n",
        "X_train, X_test, y_train, y_test = train_test_split(X, y, test_size=0.2, random_state=42)\n"
      ],
      "metadata": {
        "id": "k1yH5TpqcRWd"
      },
      "execution_count": 2,
      "outputs": []
    },
    {
      "cell_type": "markdown",
      "source": [
        "##Defining the Hinge Loss Function:\n",
        "\n",
        "We define the hinge loss function, hinge_loss, which computes the loss for a given true label (y_true) and predicted label (y_pred) using the formula np.maximum(0, 1 - y_true * y_pred). This formula penalizes misclassifications by measuring the distance between the predicted label and the true label."
      ],
      "metadata": {
        "id": "CXaKxm15momk"
      }
    },
    {
      "cell_type": "code",
      "source": [
        "def hinge_loss(y_true, y_pred):\n",
        "    loss = np.maximum(0, 1 - y_true * y_pred)\n",
        "    return loss\n"
      ],
      "metadata": {
        "id": "OqIPl_yhcV_B"
      },
      "execution_count": 3,
      "outputs": []
    },
    {
      "cell_type": "markdown",
      "source": [
        "##Defining the SVM Model:\n",
        "\n",
        "We define the SVM model as a class, SVM, with the following methods:\n",
        "`__init__`: Initializes the model with learning rate and number of iterations.\n",
        "fit: Fits the SVM model to the training data using gradient descent.\n",
        "predict: Makes predictions on new data based on the learned weights and bias."
      ],
      "metadata": {
        "id": "dFkBF3cQmtTS"
      }
    },
    {
      "cell_type": "code",
      "source": [
        "class SVM:\n",
        "    def __init__(self, learning_rate=0.01, num_iterations=1000):\n",
        "        self.learning_rate = learning_rate\n",
        "        self.num_iterations = num_iterations\n",
        "        self.weights = None\n",
        "        self.bias = None\n",
        "    \n",
        "    def fit(self, X, y):\n",
        "        # Initialize weights and bias\n",
        "        self.weights = np.zeros(X.shape[1])\n",
        "        self.bias = 0\n",
        "        \n",
        "        # Perform gradient descent\n",
        "        for _ in range(self.num_iterations):\n",
        "            scores = np.dot(X, self.weights) + self.bias\n",
        "            gradients = np.zeros(X.shape[1])\n",
        "            bias_gradient = 0\n",
        "            \n",
        "            for i, score in enumerate(scores):\n",
        "                if y[i] * score < 1:\n",
        "                    gradients += y[i] * X[i]\n",
        "                    bias_gradient += y[i]\n",
        "            \n",
        "            self.weights -= self.learning_rate * gradients\n",
        "            self.bias -= self.learning_rate * bias_gradient\n",
        "    \n",
        "    def predict(self, X):\n",
        "        scores = np.dot(X, self.weights) + self.bias\n",
        "        predictions = np.sign(scores)\n",
        "        return predictions\n"
      ],
      "metadata": {
        "id": "dRYKk2BzcaU0"
      },
      "execution_count": 4,
      "outputs": []
    },
    {
      "cell_type": "markdown",
      "source": [
        "##Training the SVM Model:\n",
        "\n",
        "We create an instance of the SVM model, svm_model, with the specified learning rate and number of iterations.\n",
        "We then call the fit method on svm_model to train the model on the training data (X_train and y_train)."
      ],
      "metadata": {
        "id": "KlraTKpim5dy"
      }
    },
    {
      "cell_type": "code",
      "source": [
        "# Create an SVM model instance\n",
        "svm_model = SVM(learning_rate=0.01, num_iterations=1000)\n",
        "\n",
        "# Train the SVM model\n",
        "svm_model.fit(X_train, y_train)\n",
        "\n",
        "\n"
      ],
      "metadata": {
        "id": "X6ohMtAIcejG"
      },
      "execution_count": 5,
      "outputs": []
    },
    {
      "cell_type": "markdown",
      "source": [
        "##Making Predictions and Calculating Hinge Loss:\n",
        "\n",
        "We use the trained SVM model to make predictions on the test set (X_test) by calling the predict method. The predicted labels are assigned to y_pred.\n",
        "We calculate the hinge loss on the test set by calling the hinge_loss function with the true labels (y_test) and predicted labels (y_pred). The hinge loss is stored in the loss variable."
      ],
      "metadata": {
        "id": "uR0xH1pTnAkU"
      }
    },
    {
      "cell_type": "code",
      "source": [
        "# Make predictions on the test set\n",
        "y_pred = svm_model.predict(X_test)\n",
        "\n",
        "# Calculate the hinge loss on the test set\n",
        "loss = hinge_loss(y_test, y_pred)\n",
        "\n",
        "\n"
      ],
      "metadata": {
        "id": "Yu6mBw8FckBB"
      },
      "execution_count": 6,
      "outputs": []
    },
    {
      "cell_type": "markdown",
      "source": [
        "##Printing the Average Hinge Loss:\n",
        "\n",
        "We calculate the average hinge loss by taking the mean of the hinge loss values using np.mean(loss).\n",
        "Finally, we print the average hinge loss."
      ],
      "metadata": {
        "id": "H2OMjoSBnF7j"
      }
    },
    {
      "cell_type": "code",
      "source": [
        "# Print the average hinge loss\n",
        "average_loss = np.mean(loss)\n",
        "print('Average Hinge Loss:', average_loss)"
      ],
      "metadata": {
        "colab": {
          "base_uri": "https://localhost:8080/"
        },
        "id": "Gxnck7gBcw4V",
        "outputId": "6a628dba-7f4a-44a5-8d51-c85807401897"
      },
      "execution_count": 7,
      "outputs": [
        {
          "output_type": "stream",
          "name": "stdout",
          "text": [
            "Average Hinge Loss: 1.6228070175438596\n"
          ]
        }
      ]
    },
    {
      "cell_type": "markdown",
      "source": [
        "#Model for the Iris dataset"
      ],
      "metadata": {
        "id": "NX5LDkzafjil"
      }
    },
    {
      "cell_type": "code",
      "source": [
        "import numpy as np\n",
        "import matplotlib.pyplot as plt\n",
        "from sklearn import datasets\n",
        "from sklearn.model_selection import train_test_split\n",
        "from sklearn.preprocessing import StandardScaler\n",
        "\n",
        "# Load the iris dataset\n",
        "iris = datasets.load_iris()\n",
        "X = iris.data[:, :2]  # Consider only the first two features\n",
        "y = iris.target\n",
        "\n",
        "# Split the dataset into training and testing sets\n",
        "X_train, X_test, y_train, y_test = train_test_split(X, y, test_size=0.2, random_state=42)\n",
        "\n",
        "# Standardize the features\n",
        "scaler = StandardScaler()\n",
        "X_train = scaler.fit_transform(X_train)\n",
        "X_test = scaler.transform(X_test)\n",
        "\n",
        "class SVM:\n",
        "    def __init__(self, learning_rate=0.01, num_iterations=1000):\n",
        "        self.learning_rate = learning_rate\n",
        "        self.num_iterations = num_iterations\n",
        "        self.weights = None\n",
        "        self.bias = None\n",
        "    \n",
        "    def fit(self, X, y):\n",
        "        n_samples, n_features = X.shape\n",
        "        \n",
        "        # Initialize weights and bias\n",
        "        self.weights = np.zeros(n_features)\n",
        "        self.bias = 0\n",
        "        \n",
        "        # Perform gradient descent\n",
        "        for _ in range(self.num_iterations):\n",
        "            distances = 1 - y * (np.dot(X, self.weights) + self.bias)\n",
        "            distances[distances < 0] = 0  # Set negative distances to zero\n",
        "            gradients = -np.dot(X.T, y * distances) / n_samples\n",
        "            bias_gradient = -np.sum(y * distances) / n_samples\n",
        "            \n",
        "            self.weights -= self.learning_rate * gradients\n",
        "            self.bias -= self.learning_rate * bias_gradient\n",
        "    \n",
        "    def predict(self, X):\n",
        "        scores = np.dot(X, self.weights) + self.bias\n",
        "        predictions = np.sign(scores)\n",
        "        return predictions\n",
        "\n",
        "# Create an SVM model instance\n",
        "svm_model = SVM(learning_rate=0.01, num_iterations=1000)\n",
        "\n",
        "# Train the SVM model\n",
        "svm_model.fit(X_train, y_train)\n",
        "\n",
        "# Make predictions on the test set\n",
        "y_pred = svm_model.predict(X_test)\n",
        "\n",
        "# Calculate the accuracy\n",
        "accuracy = np.mean(y_pred == y_test)\n",
        "print('Accuracy:', accuracy)\n",
        "\n",
        "# Visualize the decision boundary\n",
        "x_min, x_max = X[:, 0].min() - 1, X[:, 0].max() + 1\n",
        "y_min, y_max = X[:, 1].min() - 1, X[:, 1].max() + 1\n",
        "xx, yy = np.meshgrid(np.arange(x_min, x_max, 0.02),\n",
        "                     np.arange(y_min, y_max, 0.02))\n",
        "Z = svm_model.predict(np.c_[xx.ravel(), yy.ravel()])\n",
        "Z = Z.reshape(xx.shape)\n",
        "\n",
        "plt.contourf(xx, yy, Z, alpha=0.8)\n",
        "plt.scatter(X[:, 0], X[:, 1], c=y, edgecolors='k')\n",
        "plt.xlabel('Feature 1')\n",
        "plt.ylabel('Feature 2')\n",
        "plt.title('SVM Decision Boundary')\n",
        "plt.show()\n"
      ],
      "metadata": {
        "colab": {
          "base_uri": "https://localhost:8080/",
          "height": 489
        },
        "id": "cHPA96HQfWD_",
        "outputId": "6b9fb097-0d5e-4e89-e76d-f0670807c96c"
      },
      "execution_count": 12,
      "outputs": [
        {
          "output_type": "stream",
          "name": "stdout",
          "text": [
            "Accuracy: 0.3\n"
          ]
        },
        {
          "output_type": "display_data",
          "data": {
            "text/plain": [
              "<Figure size 640x480 with 1 Axes>"
            ],
            "image/png": "[encoded data removed]"
          },
          "metadata": {}
        }
      ]
    }
  ]
}